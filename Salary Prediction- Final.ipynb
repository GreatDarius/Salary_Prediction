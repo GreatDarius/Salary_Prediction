{
 "cells": [
  {
   "cell_type": "markdown",
   "metadata": {},
   "source": [
    "# Group work - Assessment 2"
   ]
  },
  {
   "cell_type": "markdown",
   "metadata": {},
   "source": [
    "In this assignment, we will focus on salary prediction. The data set for this assignment includes information on job descriptions and salaries. Use this data set to see if you can predict the salary of a job posting (i.e., the `Salary` column in the data set) based on the job description. This is important, because this model can make a salary recommendation as soon as a job description is entered into a system."
   ]
  },
  {
   "cell_type": "markdown",
   "metadata": {},
   "source": [
    "## Description of Variables\n",
    "\n",
    "The description of variables are provided in \"Jobs - Data Dictionary.docx\""
   ]
  },
  {
   "cell_type": "markdown",
   "metadata": {},
   "source": [
    "## Goal\n",
    "\n",
    "Use the **jobs_alldata.csv** data set and build models to predict **salary**.\n",
    "\n",
    "**Be careful: this is a REGRESSION task**"
   ]
  },
  {
   "cell_type": "markdown",
   "metadata": {},
   "source": [
    "## Submission:\n",
    "\n",
    "Please save and submit this Jupyter notebook file. The correctness of the code matters for your grade. **Readability and organization of your code is also important.** You may lose points for submitting unreadable/undecipherable code. Therefore, use markdown cells to create sections, and use comments where necessary.\n"
   ]
  },
  {
   "cell_type": "markdown",
   "metadata": {},
   "source": [
    "## Recommended roles for group members:\n",
    "\n",
    "**Section 1:** to be completed by both group members\n",
    "\n",
    "**Section 2:** first three models to be completed by the first group member and checked by the second; last two models to be completed by the second group members and checked by the first group member.\n",
    "\n",
    "**Discussion:** to be completed by both group members\n",
    "\n",
    "**Important notes:**\n",
    "- Both group members will get the same grade. Therefore, you should check the work of your group member. If they make a mistake, you will be responsible for that mistake too.\n",
    "- Both group members must put in their fair share of effort. Otherwise, those who don't contribute to the assignment will not receive any grade.\n"
   ]
  },
  {
   "cell_type": "markdown",
   "metadata": {},
   "source": [
    "# Section 1: (8 points in total)"
   ]
  },
  {
   "cell_type": "markdown",
   "metadata": {},
   "source": [
    "## Data Prep (6 points)"
   ]
  },
  {
   "cell_type": "code",
   "execution_count": 363,
   "metadata": {},
   "outputs": [],
   "source": [
    "#Importing required libraries\n",
    "\n",
    "import pandas as pd\n",
    "import numpy as np\n",
    "np.random.seed(42)\n",
    "from sklearn.model_selection import train_test_split\n",
    "from sklearn.compose import ColumnTransformer\n",
    "from sklearn.pipeline import Pipeline\n",
    "from sklearn.impute import SimpleImputer\n",
    "from sklearn.preprocessing import StandardScaler\n",
    "from sklearn.preprocessing import OneHotEncoder\n",
    "from sklearn.preprocessing import FunctionTransformer"
   ]
  },
  {
   "cell_type": "code",
   "execution_count": 364,
   "metadata": {},
   "outputs": [],
   "source": [
    "# Read the CSV file\n",
    "job_salary = pd.read_csv('jobs_alldata.csv')"
   ]
  },
  {
   "cell_type": "code",
   "execution_count": 365,
   "metadata": {},
   "outputs": [
    {
     "data": {
      "text/html": [
       "<div>\n",
       "<style scoped>\n",
       "    .dataframe tbody tr th:only-of-type {\n",
       "        vertical-align: middle;\n",
       "    }\n",
       "\n",
       "    .dataframe tbody tr th {\n",
       "        vertical-align: top;\n",
       "    }\n",
       "\n",
       "    .dataframe thead th {\n",
       "        text-align: right;\n",
       "    }\n",
       "</style>\n",
       "<table border=\"1\" class=\"dataframe\">\n",
       "  <thead>\n",
       "    <tr style=\"text-align: right;\">\n",
       "      <th></th>\n",
       "      <th>Salary</th>\n",
       "      <th>Job Description</th>\n",
       "      <th>Location</th>\n",
       "      <th>Min_years_exp</th>\n",
       "      <th>Technical</th>\n",
       "      <th>Comm</th>\n",
       "      <th>Travel</th>\n",
       "    </tr>\n",
       "  </thead>\n",
       "  <tbody>\n",
       "    <tr>\n",
       "      <th>0</th>\n",
       "      <td>67206</td>\n",
       "      <td>Civil Service Title: Regional Director Mental ...</td>\n",
       "      <td>Remote</td>\n",
       "      <td>5</td>\n",
       "      <td>2</td>\n",
       "      <td>3</td>\n",
       "      <td>0</td>\n",
       "    </tr>\n",
       "    <tr>\n",
       "      <th>1</th>\n",
       "      <td>88313</td>\n",
       "      <td>The New York City Comptrollerâ€™s Office Burea...</td>\n",
       "      <td>Remote</td>\n",
       "      <td>5</td>\n",
       "      <td>2</td>\n",
       "      <td>4</td>\n",
       "      <td>10-15</td>\n",
       "    </tr>\n",
       "    <tr>\n",
       "      <th>2</th>\n",
       "      <td>81315</td>\n",
       "      <td>With minimal supervision from the Deputy Commi...</td>\n",
       "      <td>East campus</td>\n",
       "      <td>5</td>\n",
       "      <td>3</td>\n",
       "      <td>3</td>\n",
       "      <td>5-10</td>\n",
       "    </tr>\n",
       "    <tr>\n",
       "      <th>3</th>\n",
       "      <td>76426</td>\n",
       "      <td>OPEN TO CURRENT BUSINESS PROMOTION COORDINATOR...</td>\n",
       "      <td>East campus</td>\n",
       "      <td>1</td>\n",
       "      <td>1</td>\n",
       "      <td>3</td>\n",
       "      <td>0</td>\n",
       "    </tr>\n",
       "    <tr>\n",
       "      <th>4</th>\n",
       "      <td>55675</td>\n",
       "      <td>Only candidates who are permanent in the Princ...</td>\n",
       "      <td>Southeast campus</td>\n",
       "      <td>1</td>\n",
       "      <td>1</td>\n",
       "      <td>3</td>\n",
       "      <td>5-10</td>\n",
       "    </tr>\n",
       "  </tbody>\n",
       "</table>\n",
       "</div>"
      ],
      "text/plain": [
       "   Salary                                    Job Description  \\\n",
       "0   67206  Civil Service Title: Regional Director Mental ...   \n",
       "1   88313  The New York City Comptrollerâ€™s Office Burea...   \n",
       "2   81315  With minimal supervision from the Deputy Commi...   \n",
       "3   76426  OPEN TO CURRENT BUSINESS PROMOTION COORDINATOR...   \n",
       "4   55675  Only candidates who are permanent in the Princ...   \n",
       "\n",
       "           Location  Min_years_exp  Technical  Comm Travel  \n",
       "0            Remote              5          2     3      0  \n",
       "1            Remote              5          2     4  10-15  \n",
       "2       East campus              5          3     3   5-10  \n",
       "3       East campus              1          1     3      0  \n",
       "4  Southeast campus              1          1     3   5-10  "
      ]
     },
     "execution_count": 365,
     "metadata": {},
     "output_type": "execute_result"
    }
   ],
   "source": [
    "#Checking data set\n",
    "job_salary.head()"
   ]
  },
  {
   "cell_type": "code",
   "execution_count": 366,
   "metadata": {},
   "outputs": [
    {
     "data": {
      "text/plain": [
       "Salary              int64\n",
       "Job Description    object\n",
       "Location           object\n",
       "Min_years_exp       int64\n",
       "Technical           int64\n",
       "Comm                int64\n",
       "Travel             object\n",
       "dtype: object"
      ]
     },
     "execution_count": 366,
     "metadata": {},
     "output_type": "execute_result"
    }
   ],
   "source": [
    "#Checking Data Type\n",
    "job_salary.dtypes"
   ]
  },
  {
   "cell_type": "code",
   "execution_count": 367,
   "metadata": {},
   "outputs": [],
   "source": [
    "#Splitting our data set into Train and Test data set with 70% to 30% ratio\n",
    "from sklearn.model_selection import train_test_split\n",
    "train_set , test_set = train_test_split( job_salary, test_size=0.3)"
   ]
  },
  {
   "cell_type": "code",
   "execution_count": 368,
   "metadata": {},
   "outputs": [
    {
     "data": {
      "text/plain": [
       "765     The New York City Housing Authority (NYCHA) is...\n",
       "2387    Hiring Rate:  $62,272.00  (Flat Rate-Annual)  ...\n",
       "2162    The Executive Director for Regulatory Reform w...\n",
       "1833    The NYC Department of Environmental Protection...\n",
       "1814    The Department of Transportationâ€™s (DOT) mis...\n",
       "                              ...                        \n",
       "2333    The Family Independence Administration/ Office...\n",
       "998     In order to be considered for this position ca...\n",
       "891     In accordance to Local Law 196 established in ...\n",
       "1866    About New York City Cyber Command NYC Cyber Co...\n",
       "1731    Only candidates who are permanent in the Civil...\n",
       "Name: Job Description, Length: 724, dtype: object"
      ]
     },
     "execution_count": 368,
     "metadata": {},
     "output_type": "execute_result"
    }
   ],
   "source": [
    "#Creating Test and Train set for Text Mining processz\n",
    "text_min_train = train_set['Job Description']\n",
    "text_min_test = test_set['Job Description']\n",
    "\n",
    "text_min_test"
   ]
  },
  {
   "cell_type": "code",
   "execution_count": 369,
   "metadata": {},
   "outputs": [
    {
     "data": {
      "text/plain": [
       "Job Description    0\n",
       "dtype: int64"
      ]
     },
     "execution_count": 369,
     "metadata": {},
     "output_type": "execute_result"
    }
   ],
   "source": [
    "# Check for missing values\n",
    "job_salary[['Job Description']].isna().sum()"
   ]
  },
  {
   "cell_type": "markdown",
   "metadata": {},
   "source": [
    "### Text Mining"
   ]
  },
  {
   "cell_type": "code",
   "execution_count": 370,
   "metadata": {},
   "outputs": [],
   "source": [
    "#TfidfVectorizer includes pre-processing, tokenization, filtering stop words\n",
    "from sklearn.feature_extraction.text import TfidfVectorizer\n",
    "\n",
    "tfidf_vect = TfidfVectorizer(stop_words='english')\n",
    "\n",
    "#Transform and Fit_Transform data\n",
    "input_data_TM_train = tfidf_vect.fit_transform(text_min_train)\n",
    "input_data_TM_test = tfidf_vect.transform(text_min_test)"
   ]
  },
  {
   "cell_type": "code",
   "execution_count": 371,
   "metadata": {},
   "outputs": [
    {
     "data": {
      "text/plain": [
       "((1689, 9914), (724, 9914))"
      ]
     },
     "execution_count": 371,
     "metadata": {},
     "output_type": "execute_result"
    }
   ],
   "source": [
    "input_data_TM_train.shape, input_data_TM_test.shape"
   ]
  },
  {
   "cell_type": "code",
   "execution_count": 372,
   "metadata": {},
   "outputs": [
    {
     "data": {
      "text/plain": [
       "array([[0.        , 0.05710745, 0.        , ..., 0.        , 0.        ,\n",
       "        0.        ],\n",
       "       [0.05301415, 0.        , 0.        , ..., 0.        , 0.        ,\n",
       "        0.        ],\n",
       "       [0.        , 0.        , 0.        , ..., 0.        , 0.        ,\n",
       "        0.        ],\n",
       "       ...,\n",
       "       [0.        , 0.        , 0.        , ..., 0.        , 0.        ,\n",
       "        0.        ],\n",
       "       [0.        , 0.        , 0.        , ..., 0.        , 0.        ,\n",
       "        0.        ],\n",
       "       [0.        , 0.        , 0.        , ..., 0.        , 0.        ,\n",
       "        0.        ]])"
      ]
     },
     "execution_count": 372,
     "metadata": {},
     "output_type": "execute_result"
    }
   ],
   "source": [
    "# These data sets are \"sparse matrix\". We can't see them unless we convert using toarray()\n",
    "input_data_TM_test.toarray()"
   ]
  },
  {
   "cell_type": "code",
   "execution_count": 373,
   "metadata": {},
   "outputs": [
    {
     "data": {
      "text/plain": [
       "{'candidates': 1507,\n",
       " 'permanent': 6504,\n",
       " 'computer': 2036,\n",
       " 'systems': 8779,\n",
       " 'manager': 5450,\n",
       " 'title': 8994,\n",
       " 'provide': 7045,\n",
       " 'proof': 6999,\n",
       " 'successful': 8652,\n",
       " 'registration': 7408,\n",
       " 'october': 6080,\n",
       " '2018': 112,\n",
       " 'open': 6155,\n",
       " 'competitive': 1977,\n",
       " 'promotional': 6991,\n",
       " 'exam': 3569,\n",
       " 'apply': 816,\n",
       " 'failure': 3757,\n",
       " 'result': 7678,\n",
       " 'disqualification': 2944,\n",
       " 'department': 2691,\n",
       " 'design': 2734,\n",
       " 'construction': 2165,\n",
       " 'division': 2984,\n",
       " 'public': 7080,\n",
       " 'buildings': 1420,\n",
       " 'seeks': 8020,\n",
       " 'director': 2858,\n",
       " 'data': 2518,\n",
       " 'analytics': 749,\n",
       " 'team': 8859,\n",
       " 'responsible': 7661,\n",
       " 'providing': 7051,\n",
       " 'descriptive': 2733,\n",
       " 'diagnostic': 2814,\n",
       " 'predictive': 6799,\n",
       " 'insights': 4766,\n",
       " 'based': 1143,\n",
       " 'agency': 633,\n",
       " 'external': 3711,\n",
       " 'sources': 8321,\n",
       " 'dataset': 2524,\n",
       " 'includes': 4631,\n",
       " 'basic': 1148,\n",
       " 'project': 6977,\n",
       " 'management': 5448,\n",
       " 'schedule': 7923,\n",
       " 'budget': 1409,\n",
       " 'internal': 4862,\n",
       " 'information': 4713,\n",
       " 'sensors': 8051,\n",
       " 'including': 4632,\n",
       " 'uncensored': 9246,\n",
       " 'leverage': 5239,\n",
       " 'business': 1448,\n",
       " 'acumen': 494,\n",
       " 'knowledge': 5090,\n",
       " 'science': 7935,\n",
       " 'modern': 5722,\n",
       " 'technical': 8866,\n",
       " 'tools': 9015,\n",
       " 'develop': 2778,\n",
       " 'informed': 4716,\n",
       " 'strategies': 8548,\n",
       " 'action': 476,\n",
       " 'related': 7445,\n",
       " 'strengthening': 8564,\n",
       " 'performance': 6490,\n",
       " 'delivery': 2662,\n",
       " 'quality': 7139,\n",
       " 'capital': 1525,\n",
       " 'projects': 6981,\n",
       " 'time': 8974,\n",
       " 'safe': 7853,\n",
       " 'manner': 5468,\n",
       " 'aggregate': 641,\n",
       " 'diagnose': 2809,\n",
       " 'identified': 4540,\n",
       " 'trends': 9144,\n",
       " 'risks': 7760,\n",
       " 'metrics': 5621,\n",
       " 'oversee': 6302,\n",
       " 'reporting': 7552,\n",
       " 'ensure': 3414,\n",
       " 'effective': 3222,\n",
       " 'flow': 3935,\n",
       " 'dashboards': 2517,\n",
       " 'dashboard': 2516,\n",
       " 'portal': 6716,\n",
       " 'good': 4184,\n",
       " 'understanding': 9270,\n",
       " 'nyc': 5984,\n",
       " 'initiatives': 4737,\n",
       " 'promote': 6986,\n",
       " 'best': 1208,\n",
       " 'practices': 6783,\n",
       " 'thinking': 8940,\n",
       " 'responsibilities': 7658,\n",
       " 'interact': 4832,\n",
       " 'portfolio': 6719,\n",
       " 'managers': 5452,\n",
       " 'ddc': 2547,\n",
       " 'counterparts': 2338,\n",
       " 'mayor': 5526,\n",
       " 'office': 6109,\n",
       " 'operations': 6172,\n",
       " 'academia': 380,\n",
       " 'position': 6729,\n",
       " 'reports': 7553,\n",
       " 'executive': 3613,\n",
       " 'controls': 2240,\n",
       " 'selected': 8033,\n",
       " 'candidate': 1506,\n",
       " 'lead': 5179,\n",
       " 'staff': 8435,\n",
       " 'analysts': 743,\n",
       " 'scientists': 7940,\n",
       " 'nycers': 5996,\n",
       " 'seeking': 8019,\n",
       " 'analyst': 742,\n",
       " 'background': 1104,\n",
       " 'superior': 8690,\n",
       " 'analytical': 747,\n",
       " 'skills': 8244,\n",
       " 'liaison': 5254,\n",
       " 'units': 9304,\n",
       " 'ba': 1097,\n",
       " 'expected': 3647,\n",
       " 'forge': 3991,\n",
       " 'strong': 8580,\n",
       " 'working': 9763,\n",
       " 'relationships': 7452,\n",
       " 'clients': 1796,\n",
       " 'technology': 8876,\n",
       " 'groups': 4250,\n",
       " 'support': 8709,\n",
       " 'process': 6915,\n",
       " 'engineering': 3390,\n",
       " 'improvement': 4606,\n",
       " 'recommendations': 7301,\n",
       " 'pir': 6600,\n",
       " 'duties': 3131,\n",
       " 'include': 4629,\n",
       " 'leading': 5184,\n",
       " 'discussions': 2909,\n",
       " 'requirements': 7583,\n",
       " 'gathering': 4128,\n",
       " 'elicitation': 3278,\n",
       " 'documentation': 3015,\n",
       " 'identifying': 4543,\n",
       " 'disparate': 2923,\n",
       " 'overlapping': 6296,\n",
       " 'current': 2462,\n",
       " 'future': 4094,\n",
       " 'state': 8475,\n",
       " 'workflow': 9756,\n",
       " 'evaluating': 3547,\n",
       " 'solutions': 8303,\n",
       " 'effectively': 3223,\n",
       " 'meet': 5569,\n",
       " 'needs': 5869,\n",
       " 'assisting': 971,\n",
       " 'assurance': 984,\n",
       " 'qa': 7124,\n",
       " 'testing': 8919,\n",
       " 'user': 9373,\n",
       " 'acceptance': 391,\n",
       " 'uat': 9223,\n",
       " 'efforts': 3234,\n",
       " 'flexible': 3927,\n",
       " 'grasp': 4219,\n",
       " 'new': 5892,\n",
       " 'concepts': 2045,\n",
       " 'paradigms': 6358,\n",
       " 'quickly': 7162,\n",
       " 'present': 6833,\n",
       " 'executives': 3614,\n",
       " 'prepared': 6822,\n",
       " 'œout': 9899,\n",
       " 'boxâ': 1338,\n",
       " 'necessary': 5863,\n",
       " 'primary': 6870,\n",
       " 'directors': 2862,\n",
       " 'understand': 9268,\n",
       " 'processes': 6917,\n",
       " 'document': 3013,\n",
       " 'operational': 6167,\n",
       " 'documents': 3018,\n",
       " 'ability': 368,\n",
       " 'facilitate': 3733,\n",
       " 'meetings': 5571,\n",
       " 'determine': 2772,\n",
       " 'prioritize': 6887,\n",
       " 'impact': 4578,\n",
       " 'existing': 3632,\n",
       " 'applications': 812,\n",
       " 'workflows': 9757,\n",
       " 'participate': 6387,\n",
       " 'various': 9430,\n",
       " 'subject': 8608,\n",
       " 'matter': 5515,\n",
       " 'expertise': 3669,\n",
       " 'life': 5272,\n",
       " 'supervise': 8693,\n",
       " 'day': 2528,\n",
       " 'absence': 372,\n",
       " 'unit': 9302,\n",
       " 'environmental': 3449,\n",
       " 'protection': 7032,\n",
       " 'dep': 2690,\n",
       " 'protects': 7036,\n",
       " 'health': 4335,\n",
       " 'environment': 3448,\n",
       " 'supplying': 8708,\n",
       " 'clean': 1776,\n",
       " 'drinking': 3085,\n",
       " 'water': 9623,\n",
       " 'collecting': 1876,\n",
       " 'treating': 9132,\n",
       " 'wastewater': 9617,\n",
       " 'reducing': 7355,\n",
       " 'air': 667,\n",
       " 'noise': 5926,\n",
       " 'hazardous': 4319,\n",
       " 'materials': 5511,\n",
       " 'pollution': 6700,\n",
       " 'largest': 5145,\n",
       " 'combined': 1896,\n",
       " 'municipal': 5819,\n",
       " 'utility': 9385,\n",
       " 'country': 2343,\n",
       " 'nearly': 5859,\n",
       " '000': 1,\n",
       " 'employees': 3318,\n",
       " 'delivers': 2661,\n",
       " 'billion': 1243,\n",
       " 'gallons': 4105,\n",
       " 'highest': 4375,\n",
       " 'million': 5657,\n",
       " 'residents': 7615,\n",
       " 'people': 6484,\n",
       " 'upstate': 9355,\n",
       " 'york': 9828,\n",
       " 'conveyance': 2258,\n",
       " 'treatment': 9133,\n",
       " 'capable': 1521,\n",
       " 'processing': 6918,\n",
       " 'protect': 7029,\n",
       " 'cityâ': 1753,\n",
       " 'surrounding': 8725,\n",
       " 'waterways': 9632,\n",
       " 'bureau': 1433,\n",
       " 'bedc': 1177,\n",
       " 'currently': 2463,\n",
       " '10b': 33,\n",
       " 'active': 484,\n",
       " 'contracts': 2224,\n",
       " '15b': 65,\n",
       " 'planning': 6622,\n",
       " 'responsibility': 7660,\n",
       " 'implement': 4588,\n",
       " 'allow': 708,\n",
       " 'continue': 2209,\n",
       " 'operate': 6162,\n",
       " 'maintain': 5422,\n",
       " 'exemplary': 3615,\n",
       " 'supply': 8707,\n",
       " 'agencyâ': 635,\n",
       " 'vision': 9532,\n",
       " 'safest': 7860,\n",
       " 'efficient': 3230,\n",
       " 'cost': 2318,\n",
       " 'resilient': 7624,\n",
       " 'transparent': 9111,\n",
       " 'nation': 5841,\n",
       " 'order': 6210,\n",
       " 'carry': 1557,\n",
       " 'mission': 5687,\n",
       " 'high': 4373,\n",
       " 'reliable': 7465,\n",
       " 'city': 1748,\n",
       " 'communities': 1947,\n",
       " 'operates': 6164,\n",
       " 'network': 5887,\n",
       " 'watershed': 9630,\n",
       " 'plants': 6629,\n",
       " 'dams': 2512,\n",
       " 'bridges': 1366,\n",
       " 'shafts': 8115,\n",
       " 'reservoirs': 7607,\n",
       " 'tunnels': 9198,\n",
       " 'pumping': 7097,\n",
       " 'stations': 8487,\n",
       " 'ultraviolet': 9236,\n",
       " 'disinfection': 2914,\n",
       " 'filtration': 3867,\n",
       " 'associated': 974,\n",
       " 'facilities': 3741,\n",
       " 'substantial': 8636,\n",
       " 'multibillion': 5810,\n",
       " 'dollar': 3034,\n",
       " 'program': 6957,\n",
       " 'required': 7581,\n",
       " 'infrastructure': 4720,\n",
       " 'reconstruction': 7314,\n",
       " 'assets': 957,\n",
       " 'integrity': 4821,\n",
       " 'continuity': 2213,\n",
       " 'wscp': 9802,\n",
       " 'provides': 7050,\n",
       " 'operating': 6165,\n",
       " 'bureaus': 1436,\n",
       " 'hire': 4390,\n",
       " 'assistant': 967,\n",
       " 'civil': 1756,\n",
       " 'engineer': 3388,\n",
       " 'directorate': 2859,\n",
       " 'located': 5350,\n",
       " 'queens': 7150,\n",
       " 'ny': 5983,\n",
       " 'supervision': 8697,\n",
       " 'report': 7549,\n",
       " 'accountable': 427,\n",
       " 'assist': 965,\n",
       " 'supervising': 8696,\n",
       " 'extends': 3699,\n",
       " '125': 45,\n",
       " 'miles': 5651,\n",
       " 'north': 5940,\n",
       " 'west': 9686,\n",
       " 'aqueducts': 862,\n",
       " 'roadways': 7774,\n",
       " 'miscellaneous': 5680,\n",
       " 'coordinating': 2277,\n",
       " 'directing': 2851,\n",
       " 'implementation': 4590,\n",
       " 'monitor': 5744,\n",
       " 'permit': 6508,\n",
       " 'resolving': 7633,\n",
       " 'issues': 4979,\n",
       " 'task': 8831,\n",
       " 'direct': 2849,\n",
       " 'conduct': 2074,\n",
       " 'skilled': 8242,\n",
       " 'field': 3848,\n",
       " 'condition': 2066,\n",
       " 'surveys': 8732,\n",
       " 'prepares': 6824,\n",
       " 'accurate': 448,\n",
       " 'physical': 6568,\n",
       " 'observation': 6037,\n",
       " 'thorough': 8944,\n",
       " 'review': 7715,\n",
       " 'contract': 2217,\n",
       " 'codes': 1848,\n",
       " 'regulations': 7420,\n",
       " 'accurately': 449,\n",
       " 'compare': 1959,\n",
       " 'identify': 4542,\n",
       " 'deficiencies': 2625,\n",
       " 'actively': 485,\n",
       " 'investigations': 4924,\n",
       " 'alternative': 720,\n",
       " 'approaches': 834,\n",
       " 'objectives': 6031,\n",
       " 'attend': 1003,\n",
       " 'compliance': 2001,\n",
       " 'safety': 7861,\n",
       " 'training': 9070,\n",
       " 'classes': 1770,\n",
       " 'december': 2577,\n",
       " '9026': 335,\n",
       " 'engineers': 3391,\n",
       " 'charge': 1687,\n",
       " 'prepare': 6821,\n",
       " 'specifications': 8362,\n",
       " 'final': 3868,\n",
       " 'estimates': 3526,\n",
       " 'engage': 3380,\n",
       " 'plans': 6624,\n",
       " 'drawings': 3080,\n",
       " 'conditions': 2070,\n",
       " 'reviews': 7721,\n",
       " 'studies': 8594,\n",
       " 'designs': 2743,\n",
       " 'minimal': 5664,\n",
       " 'read': 7231,\n",
       " 'posting': 6749,\n",
       " 'carefully': 1543,\n",
       " 'make': 5435,\n",
       " 'certain': 1648,\n",
       " 'qualification': 7131,\n",
       " 'applying': 817,\n",
       " 'vice': 9503,\n",
       " 'president': 6846,\n",
       " 'vp': 9572,\n",
       " 'wide': 9704,\n",
       " 'latitude': 5152,\n",
       " 'independent': 4661,\n",
       " 'judgment': 5041,\n",
       " 'discretion': 2902,\n",
       " 'senior': 8046,\n",
       " 'level': 5236,\n",
       " 'improve': 4604,\n",
       " 'cpd': 2366,\n",
       " 'incumbent': 4656,\n",
       " 'oversees': 6305,\n",
       " 'streamline': 8553,\n",
       " 'liaises': 5252,\n",
       " 'departments': 2693,\n",
       " 'coordinates': 2276,\n",
       " 'follows': 3964,\n",
       " 'requests': 7579,\n",
       " 'assignments': 963,\n",
       " 'limited': 5288,\n",
       " 'following': 3963,\n",
       " 'discuss': 2906,\n",
       " 'options': 6202,\n",
       " 'follow': 3961,\n",
       " 'enforce': 3374,\n",
       " 'vendor': 9456,\n",
       " 'policies': 6687,\n",
       " 'procedures': 6911,\n",
       " 'recommend': 7299,\n",
       " 'enhancements': 3398,\n",
       " 'scheduling': 7928,\n",
       " 'utilizing': 9390,\n",
       " 'critical': 2418,\n",
       " 'path': 6423,\n",
       " 'method': 5613,\n",
       " 'cpm': 2370,\n",
       " 'quarterly': 7147,\n",
       " 'council': 2324,\n",
       " 'regarding': 7398,\n",
       " 'status': 8493,\n",
       " 'funded': 4080,\n",
       " 'coordinate': 2274,\n",
       " 'intergovernmental': 4853,\n",
       " 'relations': 7450,\n",
       " 'repurpose': 7570,\n",
       " 'funds': 4084,\n",
       " 'feasible': 3805,\n",
       " 'reallocated': 7249,\n",
       " 'summarize': 8674,\n",
       " 'require': 7580,\n",
       " 'attention': 1009,\n",
       " 'direction': 2852,\n",
       " 'needed': 5867,\n",
       " 'key': 5073,\n",
       " 'decisions': 2583,\n",
       " 'change': 1674,\n",
       " 'orders': 6214,\n",
       " 'non': 5929,\n",
       " 'conforming': 2111,\n",
       " 'work': 9747,\n",
       " 'punch': 7099,\n",
       " 'lists': 5309,\n",
       " 'close': 1813,\n",
       " 'validity': 9409,\n",
       " 'forms': 4003,\n",
       " 'extensions': 3701,\n",
       " 'oracle': 6206,\n",
       " 'baseline': 1144,\n",
       " 'accuracy': 447,\n",
       " 'completeness': 1993,\n",
       " 'ready': 7240,\n",
       " 'evpâ': 3568,\n",
       " 'approval': 841,\n",
       " 'request': 7573,\n",
       " 'changes': 1676,\n",
       " 'clarity': 1768,\n",
       " 'comply': 2007,\n",
       " 'nycha': 5997,\n",
       " 'responses': 7657,\n",
       " 'teams': 8861,\n",
       " 'respond': 7648,\n",
       " 'outside': 6278,\n",
       " 'entities': 3433,\n",
       " 'matters': 5516,\n",
       " 'legal': 5215,\n",
       " 'claims': 1764,\n",
       " 'press': 6848,\n",
       " 'inquiries': 4755,\n",
       " 'audit': 1031,\n",
       " 'union': 9297,\n",
       " 'welfare': 9681,\n",
       " 'fund': 4077,\n",
       " 'payments': 6449,\n",
       " 'nychaâ': 5998,\n",
       " 'labor': 5106,\n",
       " 'agreement': 649,\n",
       " 'pla': 6609,\n",
       " '10': 16,\n",
       " 'special': 8348,\n",
       " '11': 34,\n",
       " 'analyze': 750,\n",
       " 'routine': 7815,\n",
       " 'ad': 496,\n",
       " 'hoc': 4409,\n",
       " 'workload': 9766,\n",
       " 'anomalies': 769,\n",
       " 'outlier': 6265,\n",
       " 'need': 5866,\n",
       " 'elevated': 3272,\n",
       " '12': 42,\n",
       " 'issue': 4976,\n",
       " 'memoranda': 5577,\n",
       " 'presidentâ': 6847,\n",
       " 'followed': 3962,\n",
       " 'administration': 552,\n",
       " 'updated': 9340,\n",
       " 'posted': 6747,\n",
       " 'reference': 7363,\n",
       " 'library': 5258,\n",
       " '13': 47,\n",
       " 'track': 9046,\n",
       " 'stay': 8498,\n",
       " 'complete': 1990,\n",
       " 'closeout': 1816,\n",
       " 'approved': 845,\n",
       " 'timeframes': 8976,\n",
       " 'raise': 7183,\n",
       " '14': 53,\n",
       " 'records': 7321,\n",
       " 'inform': 4710,\n",
       " 'pmd': 6665,\n",
       " 'corrections': 2300,\n",
       " '15': 60,\n",
       " 'liaise': 5251,\n",
       " 'obligations': 6034,\n",
       " 'expenditures': 3657,\n",
       " 'plan': 6617,\n",
       " 'assignment': 962,\n",
       " '16': 66,\n",
       " 'analysis': 741,\n",
       " 'updates': 9341,\n",
       " '17': 73,\n",
       " '18': 81,\n",
       " 'serve': 8075,\n",
       " 'designee': 2739,\n",
       " 'committees': 1933,\n",
       " 'note': 5944,\n",
       " 'qualified': 7133,\n",
       " 'persons': 6519,\n",
       " 'disability': 2868,\n",
       " 'eligible': 3280,\n",
       " '55': 226,\n",
       " 'indicate': 4666,\n",
       " 'cover': 2358,\n",
       " 'letter': 5233,\n",
       " 'like': 5283,\n",
       " 'considered': 2140,\n",
       " 'detailed': 2755,\n",
       " 'visit': 9535,\n",
       " 'link': 5298,\n",
       " 'http': 4485,\n",
       " 'www': 9808,\n",
       " 'gov': 4188,\n",
       " 'html': 4483,\n",
       " 'dcas': 2538,\n",
       " 'downloads': 3056,\n",
       " 'pdf': 6462,\n",
       " 'psb': 7068,\n",
       " '100_1': 20,\n",
       " 'works': 9774,\n",
       " 'prevent': 6854,\n",
       " 'control': 2235,\n",
       " 'illness': 4558,\n",
       " 'injury': 4740,\n",
       " 'occupational': 6058,\n",
       " 'outreach': 6274,\n",
       " 'education': 3210,\n",
       " 'surveillance': 8726,\n",
       " 'enforcement': 3376,\n",
       " 'covers': 2362,\n",
       " 'broad': 1376,\n",
       " 'range': 7193,\n",
       " 'oversight': 6306,\n",
       " 'poisoning': 6682,\n",
       " 'prevention': 6859,\n",
       " 'food': 3965,\n",
       " 'child': 1713,\n",
       " 'care': 1539,\n",
       " 'radiation': 7173,\n",
       " 'recreational': 7330,\n",
       " 'climate': 1799,\n",
       " 'vector': 9444,\n",
       " 'veterinary': 9494,\n",
       " 'pest': 6530,\n",
       " 'train': 9065,\n",
       " 'sanitarians': 7882,\n",
       " 'inspection': 4770,\n",
       " 'tribunals': 9154,\n",
       " 'inspections': 4772,\n",
       " 'evaluate': 3544,\n",
       " 'assure': 986,\n",
       " 'perform': 6489,\n",
       " 'established': 3517,\n",
       " 'timelines': 8981,\n",
       " 'calls': 1488,\n",
       " 'written': 9799,\n",
       " 'agencies': 631,\n",
       " 'instruct': 4792,\n",
       " 'landlords': 5127,\n",
       " 'code': 1846,\n",
       " 'explain': 3673,\n",
       " 'penalties': 6479,\n",
       " 'difficult': 2830,\n",
       " 'unusual': 9337,\n",
       " 'situations': 8230,\n",
       " 'appropriate': 836,\n",
       " 'corrective': 2301,\n",
       " 'rules': 7837,\n",
       " 'standards': 8463,\n",
       " 'housing': 4464,\n",
       " 'authority': 1047,\n",
       " 'nationâ': 5846,\n",
       " '175': 75,\n",
       " '400': 191,\n",
       " 'real': 7241,\n",
       " 'estate': 3522,\n",
       " 'priorities': 6884,\n",
       " 'managing': 5455,\n",
       " 'development': 2784,\n",
       " 'revenue': 7711,\n",
       " 'generating': 4146,\n",
       " 'opportunities': 6182,\n",
       " 'vacant': 9399,\n",
       " 'underutilized': 9279,\n",
       " 'owned': 6313,\n",
       " 'land': 5119,\n",
       " 'preservation': 6841,\n",
       " 'residential': 7614,\n",
       " 'summary': 8677,\n",
       " 'chair': 1661,\n",
       " 'chief': 1710,\n",
       " 'officer': 6110,\n",
       " 'aspects': 938,\n",
       " 'comprehensive': 2019,\n",
       " 'strategy': 8550,\n",
       " 'supporting': 8713,\n",
       " 'transformation': 9086,\n",
       " 'lives': 5328,\n",
       " 'individual': 4675,\n",
       " 'professional': 6942,\n",
       " 'pre': 6789,\n",
       " 'resident': 7613,\n",
       " 'engagement': 3382,\n",
       " 'maximizing': 5523,\n",
       " 'hudâ': 4492,\n",
       " 'rental': 7517,\n",
       " 'assistance': 966,\n",
       " 'demonstration': 2683,\n",
       " 'programs': 6966,\n",
       " 'affordable': 622,\n",
       " 'mixed': 5699,\n",
       " 'income': 4638,\n",
       " 'properties': 7007,\n",
       " 'spearhead': 8344,\n",
       " 'sale': 7864,\n",
       " 'right': 7746,\n",
       " 'commercial': 1919,\n",
       " 'rad': 7172,\n",
       " 'creating': 2392,\n",
       " 'master': 5504,\n",
       " 'campuses': 1501,\n",
       " 'executing': 3611,\n",
       " 'financing': 3879,\n",
       " 'disputations': 2941,\n",
       " 'transactions': 9077,\n",
       " 'formulate': 4006,\n",
       " 'policy': 6689,\n",
       " 'represent': 7558,\n",
       " 'community': 1949,\n",
       " 'stakeholder': 8449,\n",
       " 'engagements': 3383,\n",
       " 'manage': 5444,\n",
       " 'collaboration': 1863,\n",
       " 'corporation': 2292,\n",
       " 'nys': 6010,\n",
       " 'homes': 4432,\n",
       " 'renewal': 7507,\n",
       " 'urban': 9360,\n",
       " 'creation': 2393,\n",
       " 'administrative': 554,\n",
       " 'achieve': 454,\n",
       " 'goals': 4181,\n",
       " 'sbs': 7902,\n",
       " 'experienced': 3661,\n",
       " 'partner': 6395,\n",
       " 'tasked': 8832,\n",
       " 'developing': 2783,\n",
       " 'partnerships': 6399,\n",
       " 'organizations': 6222,\n",
       " 'institutions': 4791,\n",
       " 'increase': 4650,\n",
       " 'effectiveness': 3224,\n",
       " 'efficiency': 3229,\n",
       " 'recruiting': 7333,\n",
       " 'screening': 7960,\n",
       " 'referring': 7370,\n",
       " 'job': 5017,\n",
       " 'customers': 2476,\n",
       " 'directly': 2857,\n",
       " 'partners': 6397,\n",
       " 'closely': 1815,\n",
       " 'workforce1': 9759,\n",
       " 'driven': 3087,\n",
       " 'model': 5714,\n",
       " 'placement': 6612,\n",
       " 'connection': 2122,\n",
       " 'trainings': 9071,\n",
       " 'center': 1632,\n",
       " 'activities': 486,\n",
       " 'alignment': 688,\n",
       " 'meeting': 5570,\n",
       " 'overall': 6283,\n",
       " 'strategic': 8546,\n",
       " 'specific': 8359,\n",
       " 'neighborhood': 5880,\n",
       " 'diversify': 2976,\n",
       " 'inclusive': 4635,\n",
       " 'social': 8282,\n",
       " 'service': 8080,\n",
       " 'providers': 7048,\n",
       " 'educational': 3211,\n",
       " 'trusted': 9176,\n",
       " 'dependable': 2697,\n",
       " 'points': 6678,\n",
       " 'contact': 2186,\n",
       " 'orient': 6231,\n",
       " 'prospective': 7027,\n",
       " 'refer': 7362,\n",
       " 'seekers': 8018,\n",
       " 'tracking': 9048,\n",
       " 'referral': 7367,\n",
       " 'outcomes': 6258,\n",
       " 'consistent': 2144,\n",
       " 'appropriately': 838,\n",
       " 'referrals': 7368,\n",
       " 'services': 8086,\n",
       " 'offered': 6105,\n",
       " 'monthly': 5752,\n",
       " 'evaluation': 3548,\n",
       " 'consultation': 2174,\n",
       " 'feedback': 3816,\n",
       " 'jobseeker': 5019,\n",
       " 'preparation': 6818,\n",
       " 'expand': 3637,\n",
       " 'inbound': 4617,\n",
       " 'outbound': 6256,\n",
       " 'jobseekers': 5020,\n",
       " 'diverse': 2975,\n",
       " 'geographic': 4151,\n",
       " 'areas': 885,\n",
       " 'populations': 6712,\n",
       " 'gaining': 4102,\n",
       " 'access': 395,\n",
       " 'borough': 1325,\n",
       " 'seamlessly': 7984,\n",
       " 'integrate': 4813,\n",
       " 'general': 4139,\n",
       " 'recruitment': 7334,\n",
       " 'employed': 3316,\n",
       " 'centers': 1634,\n",
       " 'expanding': 3639,\n",
       " 'ones': 6144,\n",
       " 'especially': 3508,\n",
       " 'significant': 8197,\n",
       " 'ongoing': 6146,\n",
       " 'soliciting': 8300,\n",
       " 'occupations': 6059,\n",
       " 'communicate': 1940,\n",
       " 'findings': 3882,\n",
       " 'stakeholders': 8450,\n",
       " 'better': 1209,\n",
       " 'connect': 2119,\n",
       " 'aimed': 664,\n",
       " 'connecting': 2121,\n",
       " 'specialized': 8354,\n",
       " 'employment': 3326,\n",
       " 'serves': 8079,\n",
       " 'designed': 2738,\n",
       " 'strengthen': 8562,\n",
       " 'search': 7985,\n",
       " 'comptrollerâ': 2031,\n",
       " 'asset': 956,\n",
       " 'bam': 1126,\n",
       " 'investment': 4930,\n",
       " 'retirement': 7695,\n",
       " 'comprised': 2023,\n",
       " 'pension': 6483,\n",
       " '200': 97,\n",
       " 'managed': 5446,\n",
       " 'primarily': 6869,\n",
       " 'largely': 5143,\n",
       " 'invested': 4918,\n",
       " 'publicly': 7085,\n",
       " 'traded': 9053,\n",
       " 'securities': 8009,\n",
       " 'growing': 4254,\n",
       " 'allocations': 706,\n",
       " 'private': 6895,\n",
       " 'equity': 3475,\n",
       " 'hedge': 4354,\n",
       " 'opportunistic': 6181,\n",
       " 'fixed': 3915,\n",
       " 'investments': 4931,\n",
       " 'reits': 7441,\n",
       " 'target': 8827,\n",
       " 'allocation': 705,\n",
       " 'approximately': 851,\n",
       " 'class': 1769,\n",
       " 'head': 4329,\n",
       " 'collaborate': 1860,\n",
       " 'risk': 7759,\n",
       " 'diligence': 2840,\n",
       " 'assisted': 970,\n",
       " 'counsel': 2326,\n",
       " 'industry': 4683,\n",
       " 'consultants': 2172,\n",
       " 'members': 5574,\n",
       " 'negotiate': 5873,\n",
       " 'terms': 8908,\n",
       " 'agreements': 650,\n",
       " 'bamâ': 1127,\n",
       " 'systemsâ': 8780,\n",
       " 'boards': 1295,\n",
       " 'trustees': 9177,\n",
       " 'partnership': 6398,\n",
       " 'databases': 2520,\n",
       " 'framework': 4031,\n",
       " 'analyzing': 753,\n",
       " 'attributes': 1024,\n",
       " 'amendment': 731,\n",
       " 'consent': 2131,\n",
       " 'notices': 5949,\n",
       " 'advisory': 598,\n",
       " 'committee': 1932,\n",
       " 'annual': 765,\n",
       " 'update': 9339,\n",
       " 'research': 7595,\n",
       " 'market': 5488,\n",
       " 'industries': 4682,\n",
       " 'sectors': 8004,\n",
       " 'geographies': 4153,\n",
       " 'topics': 9017,\n",
       " 'financial': 3876,\n",
       " 'manages': 5454,\n",
       " 'functions': 4076,\n",
       " 'monitoring': 5747,\n",
       " 'expense': 3658,\n",
       " 'fy14': 4095,\n",
       " 'ensuring': 3416,\n",
       " 'federal': 3809,\n",
       " 'revenues': 7712,\n",
       " 'maintaining': 5428,\n",
       " 'reconciling': 7310,\n",
       " 'bank': 1130,\n",
       " 'accounts': 433,\n",
       " 'payment': 6448,\n",
       " 'invoices': 4939,\n",
       " 'annually': 766,\n",
       " 'provider': 7047,\n",
       " 'reviewing': 7720,\n",
       " 'statements': 8478,\n",
       " 'audits': 1036,\n",
       " 'deputy': 2720,\n",
       " 'complex': 1998,\n",
       " 'analytic': 746,\n",
       " 'exercises': 3623,\n",
       " 'relating': 7447,\n",
       " 'early': 3156,\n",
       " 'learn': 5192,\n",
       " 'progam': 6956,\n",
       " 'standardized': 8461,\n",
       " 'timely': 8983,\n",
       " 'using': 9379,\n",
       " 'large': 5142,\n",
       " 'volumes': 9563,\n",
       " 'models': 5718,\n",
       " 'create': 2389,\n",
       " 'expenditure': 3656,\n",
       " 'forecasts': 3978,\n",
       " 'advanced': 574,\n",
       " 'excel': 3587,\n",
       " 'base': 1141,\n",
       " 'cyclical': 2497,\n",
       " 'omb': 6135,\n",
       " 'concerning': 2050,\n",
       " 'pegs': 6476,\n",
       " 'surplus': 8724,\n",
       " 'modifications': 5728,\n",
       " 'acs': 472,\n",
       " 'multi': 5808,\n",
       " 'year': 9822,\n",
       " 'cycle': 2495,\n",
       " 'constructs': 2168,\n",
       " 'funding': 4083,\n",
       " 'category': 1590,\n",
       " 'budgets': 1413,\n",
       " 'answer': 772,\n",
       " 'resolve': 7630,\n",
       " 'fiscal': 3907,\n",
       " 'availability': 1074,\n",
       " 'sufficient': 8659,\n",
       " 'processed': 6916,\n",
       " 'fms': 3949,\n",
       " 'forecast': 3975,\n",
       " 'substantive': 8639,\n",
       " 'produce': 6928,\n",
       " 'directed': 2850,\n",
       " 'assigned': 960,\n",
       " 'force': 3970,\n",
       " 'oth': 6251,\n",
       " '19': 87,\n",
       " '03': 7,\n",
       " 'mayorâ': 5528,\n",
       " 'government': 4193,\n",
       " 'experts': 3671,\n",
       " 'assembles': 944,\n",
       " '70': 265,\n",
       " 'ombâ': 6137,\n",
       " 'tbm': 8849,\n",
       " 'shaping': 8120,\n",
       " 'landscape': 5131,\n",
       " 'monitors': 5748,\n",
       " 'citywide': 1752,\n",
       " 'analyzes': 752,\n",
       " 'regard': 7396,\n",
       " 'feasibility': 3804,\n",
       " 'justification': 5057,\n",
       " 'programmatic': 6961,\n",
       " 'merit': 5597,\n",
       " 'procurement': 6924,\n",
       " 'methodology': 5617,\n",
       " 'acquisition': 465,\n",
       " 'telecommunication': 8880,\n",
       " 'description': 2731,\n",
       " 'encompass': 3346,\n",
       " 'preparing': 6825,\n",
       " 'alternatives': 721,\n",
       " 'proposals': 7011,\n",
       " 'hardware': 4305,\n",
       " 'software': 8287,\n",
       " 'focusing': 3956,\n",
       " 'budgetary': 1410,\n",
       " 'proposed': 7013,\n",
       " 'implementations': 4591,\n",
       " 'representing': 7564,\n",
       " 'personnel': 6518,\n",
       " 'acquiring': 464,\n",
       " 'planting': 6627,\n",
       " 'cultivating': 2448,\n",
       " 'trees': 9138,\n",
       " 'flowers': 3938,\n",
       " 'shrubs': 8173,\n",
       " 'tasks': 8835,\n",
       " 'digging': 2835,\n",
       " 'balling': 1124,\n",
       " 'burlapping': 1442,\n",
       " 'transplanting': 9114,\n",
       " 'sod': 8286,\n",
       " 'potting': 6759,\n",
       " 'propagating': 7003,\n",
       " 'plant': 6625,\n",
       " 'pruning': 7063,\n",
       " 'spraying': 8399,\n",
       " 'maintenance': 5431,\n",
       " 'greenhouses': 4232,\n",
       " 'nurseries': 5974,\n",
       " 'soil': 8289,\n",
       " 'seed': 8014,\n",
       " 'beds': 1180,\n",
       " 'grade': 4199,\n",
       " 'weed': 9666,\n",
       " 'mulch': 5807,\n",
       " 'mow': 5791,\n",
       " 'lawns': 5161,\n",
       " 'repair': 7530,\n",
       " 'damaged': 2508,\n",
       " 'planted': 6626,\n",
       " 'fertilizing': 3835,\n",
       " 'watering': 9627,\n",
       " 'involved': 4942,\n",
       " 'operation': 6166,\n",
       " 'hand': 4284,\n",
       " 'power': 6764,\n",
       " 'gardening': 4117,\n",
       " 'equipment': 3472,\n",
       " 'adjustments': 542,\n",
       " 'repairs': 7534,\n",
       " 'replacements': 7542,\n",
       " 'supervisor': 8698,\n",
       " 'simple': 8205,\n",
       " 'record': 7315,\n",
       " 'keeping': 5068,\n",
       " 'drive': 3086,\n",
       " 'vehicles': 9449,\n",
       " 'motorized': 5781,\n",
       " ...}"
      ]
     },
     "execution_count": 373,
     "metadata": {},
     "output_type": "execute_result"
    }
   ],
   "source": [
    "tfidf_vect.vocabulary_"
   ]
  },
  {
   "cell_type": "markdown",
   "metadata": {},
   "source": [
    "## Latent Semantic Analysis (Singular Value Decomposition)\n"
   ]
  },
  {
   "cell_type": "code",
   "execution_count": 374,
   "metadata": {},
   "outputs": [],
   "source": [
    "from sklearn.decomposition import TruncatedSVD"
   ]
  },
  {
   "cell_type": "code",
   "execution_count": 375,
   "metadata": {},
   "outputs": [],
   "source": [
    "#If you are performing Latent Semantic Analysis, recommended number of components is 100\n",
    "\n",
    "svd = TruncatedSVD(n_components=100, n_iter=10)"
   ]
  },
  {
   "cell_type": "code",
   "execution_count": 376,
   "metadata": {},
   "outputs": [],
   "source": [
    "#Fit_transform on train set\n",
    "train_data_TM_lsa = svd.fit_transform(input_data_TM_train)"
   ]
  },
  {
   "cell_type": "code",
   "execution_count": 377,
   "metadata": {},
   "outputs": [
    {
     "data": {
      "text/plain": [
       "(1689, 100)"
      ]
     },
     "execution_count": 377,
     "metadata": {},
     "output_type": "execute_result"
    }
   ],
   "source": [
    "train_data_TM_lsa.shape"
   ]
  },
  {
   "cell_type": "code",
   "execution_count": 378,
   "metadata": {},
   "outputs": [
    {
     "data": {
      "text/plain": [
       "array([[ 0.22541013, -0.18772174, -0.1234057 , ...,  0.01584198,\n",
       "        -0.02776014,  0.01248863],\n",
       "       [ 0.14646783, -0.09181437, -0.03610346, ..., -0.10436983,\n",
       "         0.02390888, -0.04682402],\n",
       "       [ 0.1838085 , -0.10639539, -0.06984518, ...,  0.00791176,\n",
       "         0.06297532, -0.02738126],\n",
       "       ...,\n",
       "       [ 0.25626826,  0.00734499, -0.03820685, ..., -0.0314851 ,\n",
       "         0.01051491,  0.04303647],\n",
       "       [ 0.15566608, -0.0875817 , -0.04037813, ..., -0.05153492,\n",
       "        -0.00112513,  0.0654764 ],\n",
       "       [ 0.11782855, -0.06243145, -0.04656153, ...,  0.01712884,\n",
       "        -0.00624332,  0.00788095]])"
      ]
     },
     "execution_count": 378,
     "metadata": {},
     "output_type": "execute_result"
    }
   ],
   "source": [
    "input_data_TM_lsa"
   ]
  },
  {
   "cell_type": "code",
   "execution_count": 379,
   "metadata": {},
   "outputs": [],
   "source": [
    "#transform on test set\n",
    "test_data_TM_lsa = svd.transform(input_data_TM_test)"
   ]
  },
  {
   "cell_type": "code",
   "execution_count": 380,
   "metadata": {},
   "outputs": [
    {
     "data": {
      "text/plain": [
       "(724, 100)"
      ]
     },
     "execution_count": 380,
     "metadata": {},
     "output_type": "execute_result"
    }
   ],
   "source": [
    "test_data_TM_lsa.shape"
   ]
  },
  {
   "cell_type": "code",
   "execution_count": 381,
   "metadata": {},
   "outputs": [
    {
     "data": {
      "text/plain": [
       "array([[ 0.22442943, -0.15304556, -0.07083585, ..., -0.01055468,\n",
       "         0.06329797, -0.00842715],\n",
       "       [ 0.18129172, -0.14482415, -0.05639426, ..., -0.0240798 ,\n",
       "        -0.00436142, -0.09301763],\n",
       "       [ 0.25478046, -0.19879586, -0.07065608, ...,  0.02435736,\n",
       "         0.01206157,  0.02165181],\n",
       "       ...,\n",
       "       [ 0.27755586, -0.18287792,  0.03599143, ..., -0.04275712,\n",
       "        -0.01386028,  0.02087426],\n",
       "       [ 0.14498797, -0.11293755, -0.07782072, ...,  0.03625459,\n",
       "         0.00491215,  0.0390706 ],\n",
       "       [ 0.26692051, -0.08935042,  0.44355519, ...,  0.03461096,\n",
       "        -0.00869083,  0.01366206]])"
      ]
     },
     "execution_count": 381,
     "metadata": {},
     "output_type": "execute_result"
    }
   ],
   "source": [
    "test_data_TM_lsa"
   ]
  },
  {
   "cell_type": "code",
   "execution_count": 382,
   "metadata": {},
   "outputs": [
    {
     "name": "stderr",
     "output_type": "stream",
     "text": [
      "C:\\Users\\Moein.f\\anaconda3\\lib\\site-packages\\pandas\\core\\frame.py:4906: SettingWithCopyWarning: \n",
      "A value is trying to be set on a copy of a slice from a DataFrame\n",
      "\n",
      "See the caveats in the documentation: https://pandas.pydata.org/pandas-docs/stable/user_guide/indexing.html#returning-a-view-versus-a-copy\n",
      "  return super().drop(\n"
     ]
    }
   ],
   "source": [
    "#Droping 'Job Description' column since it is no longer required\n",
    "train_set.drop(['Job Description'], axis=1, inplace=True)\n",
    "test_set.drop(['Job Description'], axis=1, inplace=True)"
   ]
  },
  {
   "cell_type": "code",
   "execution_count": 383,
   "metadata": {},
   "outputs": [],
   "source": [
    "## lets separate the feature and target for train and test data set\n",
    "train_target = train_set['Salary']\n",
    "test_target = test_set['Salary']"
   ]
  },
  {
   "cell_type": "code",
   "execution_count": 384,
   "metadata": {},
   "outputs": [],
   "source": [
    "train_data = train_set.drop(['Salary'], axis=1)\n",
    "test_data = test_set.drop(['Salary'], axis=1)"
   ]
  },
  {
   "cell_type": "markdown",
   "metadata": {},
   "source": [
    "## Feature Engineering (1 points)\n",
    "\n",
    "Create one NEW feature from existing data. You either transform a single variable, or create a new variable from existing ones. \n",
    "\n",
    "Grading: \n",
    "- 0.5 points for creating the new feature correctly\n",
    "- 0.5 points for the justification of the new feature (i.e., why did you create this new feature)"
   ]
  },
  {
   "cell_type": "code",
   "execution_count": 385,
   "metadata": {},
   "outputs": [],
   "source": [
    "# We decided to categorize the travel column as below: 0 for \"0\" days travel, 1 for \"1-5\" days travel, 2 for \"5-10\" days travel, and 3 for \"10-15\" days travel\n",
    "def new_col(df):    \n",
    "    df1 = df.copy()\n",
    "    TravelCol = df1['Travel'].to_list()\n",
    "    New_Travel = []\n",
    "    j = len(TravelCol)\n",
    "\n",
    "    for i in range(j):\n",
    "        if TravelCol[i] == \"0\":\n",
    "            New_Travel.append(0)\n",
    "        elif TravelCol[i] == \"1-5\":\n",
    "            New_Travel.append(1)\n",
    "        elif TravelCol[i] == \"5-10\":\n",
    "            New_Travel.append(2)\n",
    "        elif TravelCol[i] == \"10-15\":\n",
    "            New_Travel.append(3)\n",
    "    df1['Travel']=New_Travel\n",
    "    return df1[['Travel']]\n",
    "    "
   ]
  },
  {
   "cell_type": "code",
   "execution_count": 386,
   "metadata": {},
   "outputs": [
    {
     "data": {
      "text/html": [
       "<div>\n",
       "<style scoped>\n",
       "    .dataframe tbody tr th:only-of-type {\n",
       "        vertical-align: middle;\n",
       "    }\n",
       "\n",
       "    .dataframe tbody tr th {\n",
       "        vertical-align: top;\n",
       "    }\n",
       "\n",
       "    .dataframe thead th {\n",
       "        text-align: right;\n",
       "    }\n",
       "</style>\n",
       "<table border=\"1\" class=\"dataframe\">\n",
       "  <thead>\n",
       "    <tr style=\"text-align: right;\">\n",
       "      <th></th>\n",
       "      <th>Travel</th>\n",
       "    </tr>\n",
       "  </thead>\n",
       "  <tbody>\n",
       "    <tr>\n",
       "      <th>429</th>\n",
       "      <td>0</td>\n",
       "    </tr>\n",
       "    <tr>\n",
       "      <th>1185</th>\n",
       "      <td>3</td>\n",
       "    </tr>\n",
       "    <tr>\n",
       "      <th>2116</th>\n",
       "      <td>0</td>\n",
       "    </tr>\n",
       "    <tr>\n",
       "      <th>2127</th>\n",
       "      <td>0</td>\n",
       "    </tr>\n",
       "    <tr>\n",
       "      <th>458</th>\n",
       "      <td>0</td>\n",
       "    </tr>\n",
       "    <tr>\n",
       "      <th>...</th>\n",
       "      <td>...</td>\n",
       "    </tr>\n",
       "    <tr>\n",
       "      <th>1638</th>\n",
       "      <td>0</td>\n",
       "    </tr>\n",
       "    <tr>\n",
       "      <th>1095</th>\n",
       "      <td>0</td>\n",
       "    </tr>\n",
       "    <tr>\n",
       "      <th>1130</th>\n",
       "      <td>2</td>\n",
       "    </tr>\n",
       "    <tr>\n",
       "      <th>1294</th>\n",
       "      <td>0</td>\n",
       "    </tr>\n",
       "    <tr>\n",
       "      <th>860</th>\n",
       "      <td>0</td>\n",
       "    </tr>\n",
       "  </tbody>\n",
       "</table>\n",
       "<p>1689 rows × 1 columns</p>\n",
       "</div>"
      ],
      "text/plain": [
       "      Travel\n",
       "429        0\n",
       "1185       3\n",
       "2116       0\n",
       "2127       0\n",
       "458        0\n",
       "...      ...\n",
       "1638       0\n",
       "1095       0\n",
       "1130       2\n",
       "1294       0\n",
       "860        0\n",
       "\n",
       "[1689 rows x 1 columns]"
      ]
     },
     "execution_count": 386,
     "metadata": {},
     "output_type": "execute_result"
    }
   ],
   "source": [
    "new_col(train_data)"
   ]
  },
  {
   "cell_type": "markdown",
   "metadata": {},
   "source": [
    "## Data Prepration for Pipelining"
   ]
  },
  {
   "cell_type": "code",
   "execution_count": 387,
   "metadata": {},
   "outputs": [],
   "source": [
    "# Identify the numerical columns\n",
    "numeric_columns = ['Min_years_exp','Technical','Comm']\n",
    "\n",
    "# Identify the categorical columns\n",
    "categorical_columns =  ['Location','Travel']"
   ]
  },
  {
   "cell_type": "code",
   "execution_count": 388,
   "metadata": {},
   "outputs": [
    {
     "data": {
      "text/plain": [
       "['Min_years_exp', 'Technical', 'Comm']"
      ]
     },
     "execution_count": 388,
     "metadata": {},
     "output_type": "execute_result"
    }
   ],
   "source": [
    "numeric_columns"
   ]
  },
  {
   "cell_type": "code",
   "execution_count": 389,
   "metadata": {},
   "outputs": [
    {
     "data": {
      "text/plain": [
       "['Location', 'Travel']"
      ]
     },
     "execution_count": 389,
     "metadata": {},
     "output_type": "execute_result"
    }
   ],
   "source": [
    "categorical_columns"
   ]
  },
  {
   "cell_type": "code",
   "execution_count": 390,
   "metadata": {},
   "outputs": [],
   "source": [
    "feat_eng_columns = ['Travel']"
   ]
  },
  {
   "cell_type": "markdown",
   "metadata": {},
   "source": [
    "### PIPELINE"
   ]
  },
  {
   "cell_type": "code",
   "execution_count": 391,
   "metadata": {},
   "outputs": [],
   "source": [
    "numeric_transformer = Pipeline(steps=[\n",
    "                ('imputer', SimpleImputer(strategy='median')),\n",
    "                ('scaler', StandardScaler())])"
   ]
  },
  {
   "cell_type": "code",
   "execution_count": 392,
   "metadata": {},
   "outputs": [],
   "source": [
    "categorical_transformer = Pipeline(steps=[\n",
    "    ('imputer', SimpleImputer(strategy='constant', fill_value='unknown')),\n",
    "    ('onehot', OneHotEncoder(handle_unknown='ignore'))])"
   ]
  },
  {
   "cell_type": "code",
   "execution_count": 393,
   "metadata": {},
   "outputs": [],
   "source": [
    "my_new_column = Pipeline(steps=[('my_new_column', FunctionTransformer(new_col)),\n",
    "                               ('scaler', StandardScaler())])"
   ]
  },
  {
   "cell_type": "code",
   "execution_count": 394,
   "metadata": {},
   "outputs": [],
   "source": [
    "preprocessor = ColumnTransformer([\n",
    "        ('num', numeric_transformer, numeric_columns),\n",
    "        ('cat', categorical_transformer, categorical_columns),\n",
    "        ('trans', my_new_column, feat_eng_columns)],\n",
    "        remainder='passthrough')\n"
   ]
  },
  {
   "cell_type": "code",
   "execution_count": 395,
   "metadata": {},
   "outputs": [
    {
     "data": {
      "text/plain": [
       "array([[-1.12955755,  0.59306224,  0.9780514 , ...,  0.        ,\n",
       "         0.        , -0.45335186],\n",
       "       [ 1.0979062 ,  0.59306224, -1.25579419, ...,  1.        ,\n",
       "         0.        ,  2.99062696],\n",
       "       [-1.12955755,  0.59306224,  2.09497419, ...,  0.        ,\n",
       "         0.        , -0.45335186],\n",
       "       ...,\n",
       "       [-1.12955755,  0.59306224, -1.25579419, ...,  0.        ,\n",
       "         1.        ,  1.84263402],\n",
       "       [ 0.54104026, -0.23136749, -0.1388714 , ...,  0.        ,\n",
       "         0.        , -0.45335186],\n",
       "       [-1.12955755, -0.23136749, -0.1388714 , ...,  0.        ,\n",
       "         0.        , -0.45335186]])"
      ]
     },
     "execution_count": 395,
     "metadata": {},
     "output_type": "execute_result"
    }
   ],
   "source": [
    "#Fit_transforming our train set\n",
    "train_processed = preprocessor.fit_transform(train_data)\n",
    "\n",
    "train_processed"
   ]
  },
  {
   "cell_type": "code",
   "execution_count": 396,
   "metadata": {},
   "outputs": [],
   "source": [
    "#Transforming our Test set\n",
    "test_processed = preprocessor.transform(test_data)"
   ]
  },
  {
   "cell_type": "code",
   "execution_count": 397,
   "metadata": {},
   "outputs": [
    {
     "data": {
      "text/plain": [
       "array([[-1.12955755, -0.23136749, -0.1388714 , ...,  0.        ,\n",
       "         0.        , -0.45335186],\n",
       "       [ 0.54104026,  0.59306224, -2.37271699, ...,  0.        ,\n",
       "         1.        ,  1.84263402],\n",
       "       [ 0.54104026,  0.59306224, -1.25579419, ...,  0.        ,\n",
       "         0.        , -0.45335186],\n",
       "       ...,\n",
       "       [-1.12955755, -0.23136749,  0.9780514 , ...,  0.        ,\n",
       "         0.        , -0.45335186],\n",
       "       [ 0.54104026,  2.24192171, -1.25579419, ...,  0.        ,\n",
       "         0.        ,  0.69464108],\n",
       "       [ 1.0979062 , -1.05579722,  0.9780514 , ...,  0.        ,\n",
       "         0.        , -0.45335186]])"
      ]
     },
     "execution_count": 397,
     "metadata": {},
     "output_type": "execute_result"
    }
   ],
   "source": [
    "test_processed"
   ]
  },
  {
   "cell_type": "code",
   "execution_count": 398,
   "metadata": {},
   "outputs": [
    {
     "data": {
      "text/plain": [
       "((724, 13), (1689, 13))"
      ]
     },
     "execution_count": 398,
     "metadata": {},
     "output_type": "execute_result"
    }
   ],
   "source": [
    "test_processed.shape, train_processed.shape"
   ]
  },
  {
   "cell_type": "markdown",
   "metadata": {},
   "source": [
    "### Concatenating our 2 data sets"
   ]
  },
  {
   "cell_type": "code",
   "execution_count": 399,
   "metadata": {},
   "outputs": [],
   "source": [
    "final_train_x = np.concatenate((train_processed, train_data_TM_lsa), axis=1)\n",
    "final_test_x = np.concatenate((test_processed, test_data_TM_lsa), axis=1)"
   ]
  },
  {
   "cell_type": "code",
   "execution_count": 400,
   "metadata": {},
   "outputs": [
    {
     "data": {
      "text/plain": [
       "((1689, 113), (724, 113))"
      ]
     },
     "execution_count": 400,
     "metadata": {},
     "output_type": "execute_result"
    }
   ],
   "source": [
    "final_train_x.shape, final_test_x.shape"
   ]
  },
  {
   "cell_type": "markdown",
   "metadata": {},
   "source": [
    "## Find the Baseline (1 point)"
   ]
  },
  {
   "cell_type": "code",
   "execution_count": 401,
   "metadata": {},
   "outputs": [],
   "source": [
    "from sklearn.metrics import mean_squared_error"
   ]
  },
  {
   "cell_type": "code",
   "execution_count": 402,
   "metadata": {},
   "outputs": [
    {
     "data": {
      "text/plain": [
       "78566.0307874482"
      ]
     },
     "execution_count": 402,
     "metadata": {},
     "output_type": "execute_result"
    }
   ],
   "source": [
    "#First find the average value of the target\n",
    "\n",
    "mean_value = np.mean(train_target)\n",
    "\n",
    "mean_value"
   ]
  },
  {
   "cell_type": "code",
   "execution_count": 403,
   "metadata": {},
   "outputs": [
    {
     "data": {
      "text/plain": [
       "array([78566.03078745, 78566.03078745, 78566.03078745, 78566.03078745,\n",
       "       78566.03078745, 78566.03078745, 78566.03078745, 78566.03078745,\n",
       "       78566.03078745, 78566.03078745, 78566.03078745, 78566.03078745,\n",
       "       78566.03078745, 78566.03078745, 78566.03078745, 78566.03078745,\n",
       "       78566.03078745, 78566.03078745, 78566.03078745, 78566.03078745,\n",
       "       78566.03078745, 78566.03078745, 78566.03078745, 78566.03078745,\n",
       "       78566.03078745, 78566.03078745, 78566.03078745, 78566.03078745,\n",
       "       78566.03078745, 78566.03078745, 78566.03078745, 78566.03078745,\n",
       "       78566.03078745, 78566.03078745, 78566.03078745, 78566.03078745,\n",
       "       78566.03078745, 78566.03078745, 78566.03078745, 78566.03078745,\n",
       "       78566.03078745, 78566.03078745, 78566.03078745, 78566.03078745,\n",
       "       78566.03078745, 78566.03078745, 78566.03078745, 78566.03078745,\n",
       "       78566.03078745, 78566.03078745, 78566.03078745, 78566.03078745,\n",
       "       78566.03078745, 78566.03078745, 78566.03078745, 78566.03078745,\n",
       "       78566.03078745, 78566.03078745, 78566.03078745, 78566.03078745,\n",
       "       78566.03078745, 78566.03078745, 78566.03078745, 78566.03078745,\n",
       "       78566.03078745, 78566.03078745, 78566.03078745, 78566.03078745,\n",
       "       78566.03078745, 78566.03078745, 78566.03078745, 78566.03078745,\n",
       "       78566.03078745, 78566.03078745, 78566.03078745, 78566.03078745,\n",
       "       78566.03078745, 78566.03078745, 78566.03078745, 78566.03078745,\n",
       "       78566.03078745, 78566.03078745, 78566.03078745, 78566.03078745,\n",
       "       78566.03078745, 78566.03078745, 78566.03078745, 78566.03078745,\n",
       "       78566.03078745, 78566.03078745, 78566.03078745, 78566.03078745,\n",
       "       78566.03078745, 78566.03078745, 78566.03078745, 78566.03078745,\n",
       "       78566.03078745, 78566.03078745, 78566.03078745, 78566.03078745,\n",
       "       78566.03078745, 78566.03078745, 78566.03078745, 78566.03078745,\n",
       "       78566.03078745, 78566.03078745, 78566.03078745, 78566.03078745,\n",
       "       78566.03078745, 78566.03078745, 78566.03078745, 78566.03078745,\n",
       "       78566.03078745, 78566.03078745, 78566.03078745, 78566.03078745,\n",
       "       78566.03078745, 78566.03078745, 78566.03078745, 78566.03078745,\n",
       "       78566.03078745, 78566.03078745, 78566.03078745, 78566.03078745,\n",
       "       78566.03078745, 78566.03078745, 78566.03078745, 78566.03078745,\n",
       "       78566.03078745, 78566.03078745, 78566.03078745, 78566.03078745,\n",
       "       78566.03078745, 78566.03078745, 78566.03078745, 78566.03078745,\n",
       "       78566.03078745, 78566.03078745, 78566.03078745, 78566.03078745,\n",
       "       78566.03078745, 78566.03078745, 78566.03078745, 78566.03078745,\n",
       "       78566.03078745, 78566.03078745, 78566.03078745, 78566.03078745,\n",
       "       78566.03078745, 78566.03078745, 78566.03078745, 78566.03078745,\n",
       "       78566.03078745, 78566.03078745, 78566.03078745, 78566.03078745,\n",
       "       78566.03078745, 78566.03078745, 78566.03078745, 78566.03078745,\n",
       "       78566.03078745, 78566.03078745, 78566.03078745, 78566.03078745,\n",
       "       78566.03078745, 78566.03078745, 78566.03078745, 78566.03078745,\n",
       "       78566.03078745, 78566.03078745, 78566.03078745, 78566.03078745,\n",
       "       78566.03078745, 78566.03078745, 78566.03078745, 78566.03078745,\n",
       "       78566.03078745, 78566.03078745, 78566.03078745, 78566.03078745,\n",
       "       78566.03078745, 78566.03078745, 78566.03078745, 78566.03078745,\n",
       "       78566.03078745, 78566.03078745, 78566.03078745, 78566.03078745,\n",
       "       78566.03078745, 78566.03078745, 78566.03078745, 78566.03078745,\n",
       "       78566.03078745, 78566.03078745, 78566.03078745, 78566.03078745,\n",
       "       78566.03078745, 78566.03078745, 78566.03078745, 78566.03078745,\n",
       "       78566.03078745, 78566.03078745, 78566.03078745, 78566.03078745,\n",
       "       78566.03078745, 78566.03078745, 78566.03078745, 78566.03078745,\n",
       "       78566.03078745, 78566.03078745, 78566.03078745, 78566.03078745,\n",
       "       78566.03078745, 78566.03078745, 78566.03078745, 78566.03078745,\n",
       "       78566.03078745, 78566.03078745, 78566.03078745, 78566.03078745,\n",
       "       78566.03078745, 78566.03078745, 78566.03078745, 78566.03078745,\n",
       "       78566.03078745, 78566.03078745, 78566.03078745, 78566.03078745,\n",
       "       78566.03078745, 78566.03078745, 78566.03078745, 78566.03078745,\n",
       "       78566.03078745, 78566.03078745, 78566.03078745, 78566.03078745,\n",
       "       78566.03078745, 78566.03078745, 78566.03078745, 78566.03078745,\n",
       "       78566.03078745, 78566.03078745, 78566.03078745, 78566.03078745,\n",
       "       78566.03078745, 78566.03078745, 78566.03078745, 78566.03078745,\n",
       "       78566.03078745, 78566.03078745, 78566.03078745, 78566.03078745,\n",
       "       78566.03078745, 78566.03078745, 78566.03078745, 78566.03078745,\n",
       "       78566.03078745, 78566.03078745, 78566.03078745, 78566.03078745,\n",
       "       78566.03078745, 78566.03078745, 78566.03078745, 78566.03078745,\n",
       "       78566.03078745, 78566.03078745, 78566.03078745, 78566.03078745,\n",
       "       78566.03078745, 78566.03078745, 78566.03078745, 78566.03078745,\n",
       "       78566.03078745, 78566.03078745, 78566.03078745, 78566.03078745,\n",
       "       78566.03078745, 78566.03078745, 78566.03078745, 78566.03078745,\n",
       "       78566.03078745, 78566.03078745, 78566.03078745, 78566.03078745,\n",
       "       78566.03078745, 78566.03078745, 78566.03078745, 78566.03078745,\n",
       "       78566.03078745, 78566.03078745, 78566.03078745, 78566.03078745,\n",
       "       78566.03078745, 78566.03078745, 78566.03078745, 78566.03078745,\n",
       "       78566.03078745, 78566.03078745, 78566.03078745, 78566.03078745,\n",
       "       78566.03078745, 78566.03078745, 78566.03078745, 78566.03078745,\n",
       "       78566.03078745, 78566.03078745, 78566.03078745, 78566.03078745,\n",
       "       78566.03078745, 78566.03078745, 78566.03078745, 78566.03078745,\n",
       "       78566.03078745, 78566.03078745, 78566.03078745, 78566.03078745,\n",
       "       78566.03078745, 78566.03078745, 78566.03078745, 78566.03078745,\n",
       "       78566.03078745, 78566.03078745, 78566.03078745, 78566.03078745,\n",
       "       78566.03078745, 78566.03078745, 78566.03078745, 78566.03078745,\n",
       "       78566.03078745, 78566.03078745, 78566.03078745, 78566.03078745,\n",
       "       78566.03078745, 78566.03078745, 78566.03078745, 78566.03078745,\n",
       "       78566.03078745, 78566.03078745, 78566.03078745, 78566.03078745,\n",
       "       78566.03078745, 78566.03078745, 78566.03078745, 78566.03078745,\n",
       "       78566.03078745, 78566.03078745, 78566.03078745, 78566.03078745,\n",
       "       78566.03078745, 78566.03078745, 78566.03078745, 78566.03078745,\n",
       "       78566.03078745, 78566.03078745, 78566.03078745, 78566.03078745,\n",
       "       78566.03078745, 78566.03078745, 78566.03078745, 78566.03078745,\n",
       "       78566.03078745, 78566.03078745, 78566.03078745, 78566.03078745,\n",
       "       78566.03078745, 78566.03078745, 78566.03078745, 78566.03078745,\n",
       "       78566.03078745, 78566.03078745, 78566.03078745, 78566.03078745,\n",
       "       78566.03078745, 78566.03078745, 78566.03078745, 78566.03078745,\n",
       "       78566.03078745, 78566.03078745, 78566.03078745, 78566.03078745,\n",
       "       78566.03078745, 78566.03078745, 78566.03078745, 78566.03078745,\n",
       "       78566.03078745, 78566.03078745, 78566.03078745, 78566.03078745,\n",
       "       78566.03078745, 78566.03078745, 78566.03078745, 78566.03078745,\n",
       "       78566.03078745, 78566.03078745, 78566.03078745, 78566.03078745,\n",
       "       78566.03078745, 78566.03078745, 78566.03078745, 78566.03078745,\n",
       "       78566.03078745, 78566.03078745, 78566.03078745, 78566.03078745,\n",
       "       78566.03078745, 78566.03078745, 78566.03078745, 78566.03078745,\n",
       "       78566.03078745, 78566.03078745, 78566.03078745, 78566.03078745,\n",
       "       78566.03078745, 78566.03078745, 78566.03078745, 78566.03078745,\n",
       "       78566.03078745, 78566.03078745, 78566.03078745, 78566.03078745,\n",
       "       78566.03078745, 78566.03078745, 78566.03078745, 78566.03078745,\n",
       "       78566.03078745, 78566.03078745, 78566.03078745, 78566.03078745,\n",
       "       78566.03078745, 78566.03078745, 78566.03078745, 78566.03078745,\n",
       "       78566.03078745, 78566.03078745, 78566.03078745, 78566.03078745,\n",
       "       78566.03078745, 78566.03078745, 78566.03078745, 78566.03078745,\n",
       "       78566.03078745, 78566.03078745, 78566.03078745, 78566.03078745,\n",
       "       78566.03078745, 78566.03078745, 78566.03078745, 78566.03078745,\n",
       "       78566.03078745, 78566.03078745, 78566.03078745, 78566.03078745,\n",
       "       78566.03078745, 78566.03078745, 78566.03078745, 78566.03078745,\n",
       "       78566.03078745, 78566.03078745, 78566.03078745, 78566.03078745,\n",
       "       78566.03078745, 78566.03078745, 78566.03078745, 78566.03078745,\n",
       "       78566.03078745, 78566.03078745, 78566.03078745, 78566.03078745,\n",
       "       78566.03078745, 78566.03078745, 78566.03078745, 78566.03078745,\n",
       "       78566.03078745, 78566.03078745, 78566.03078745, 78566.03078745,\n",
       "       78566.03078745, 78566.03078745, 78566.03078745, 78566.03078745,\n",
       "       78566.03078745, 78566.03078745, 78566.03078745, 78566.03078745,\n",
       "       78566.03078745, 78566.03078745, 78566.03078745, 78566.03078745,\n",
       "       78566.03078745, 78566.03078745, 78566.03078745, 78566.03078745,\n",
       "       78566.03078745, 78566.03078745, 78566.03078745, 78566.03078745,\n",
       "       78566.03078745, 78566.03078745, 78566.03078745, 78566.03078745,\n",
       "       78566.03078745, 78566.03078745, 78566.03078745, 78566.03078745,\n",
       "       78566.03078745, 78566.03078745, 78566.03078745, 78566.03078745,\n",
       "       78566.03078745, 78566.03078745, 78566.03078745, 78566.03078745,\n",
       "       78566.03078745, 78566.03078745, 78566.03078745, 78566.03078745,\n",
       "       78566.03078745, 78566.03078745, 78566.03078745, 78566.03078745,\n",
       "       78566.03078745, 78566.03078745, 78566.03078745, 78566.03078745,\n",
       "       78566.03078745, 78566.03078745, 78566.03078745, 78566.03078745,\n",
       "       78566.03078745, 78566.03078745, 78566.03078745, 78566.03078745,\n",
       "       78566.03078745, 78566.03078745, 78566.03078745, 78566.03078745,\n",
       "       78566.03078745, 78566.03078745, 78566.03078745, 78566.03078745,\n",
       "       78566.03078745, 78566.03078745, 78566.03078745, 78566.03078745,\n",
       "       78566.03078745, 78566.03078745, 78566.03078745, 78566.03078745,\n",
       "       78566.03078745, 78566.03078745, 78566.03078745, 78566.03078745,\n",
       "       78566.03078745, 78566.03078745, 78566.03078745, 78566.03078745,\n",
       "       78566.03078745, 78566.03078745, 78566.03078745, 78566.03078745,\n",
       "       78566.03078745, 78566.03078745, 78566.03078745, 78566.03078745,\n",
       "       78566.03078745, 78566.03078745, 78566.03078745, 78566.03078745,\n",
       "       78566.03078745, 78566.03078745, 78566.03078745, 78566.03078745,\n",
       "       78566.03078745, 78566.03078745, 78566.03078745, 78566.03078745,\n",
       "       78566.03078745, 78566.03078745, 78566.03078745, 78566.03078745,\n",
       "       78566.03078745, 78566.03078745, 78566.03078745, 78566.03078745,\n",
       "       78566.03078745, 78566.03078745, 78566.03078745, 78566.03078745,\n",
       "       78566.03078745, 78566.03078745, 78566.03078745, 78566.03078745,\n",
       "       78566.03078745, 78566.03078745, 78566.03078745, 78566.03078745,\n",
       "       78566.03078745, 78566.03078745, 78566.03078745, 78566.03078745,\n",
       "       78566.03078745, 78566.03078745, 78566.03078745, 78566.03078745,\n",
       "       78566.03078745, 78566.03078745, 78566.03078745, 78566.03078745,\n",
       "       78566.03078745, 78566.03078745, 78566.03078745, 78566.03078745,\n",
       "       78566.03078745, 78566.03078745, 78566.03078745, 78566.03078745,\n",
       "       78566.03078745, 78566.03078745, 78566.03078745, 78566.03078745,\n",
       "       78566.03078745, 78566.03078745, 78566.03078745, 78566.03078745,\n",
       "       78566.03078745, 78566.03078745, 78566.03078745, 78566.03078745,\n",
       "       78566.03078745, 78566.03078745, 78566.03078745, 78566.03078745,\n",
       "       78566.03078745, 78566.03078745, 78566.03078745, 78566.03078745,\n",
       "       78566.03078745, 78566.03078745, 78566.03078745, 78566.03078745,\n",
       "       78566.03078745, 78566.03078745, 78566.03078745, 78566.03078745,\n",
       "       78566.03078745, 78566.03078745, 78566.03078745, 78566.03078745,\n",
       "       78566.03078745, 78566.03078745, 78566.03078745, 78566.03078745,\n",
       "       78566.03078745, 78566.03078745, 78566.03078745, 78566.03078745,\n",
       "       78566.03078745, 78566.03078745, 78566.03078745, 78566.03078745,\n",
       "       78566.03078745, 78566.03078745, 78566.03078745, 78566.03078745,\n",
       "       78566.03078745, 78566.03078745, 78566.03078745, 78566.03078745,\n",
       "       78566.03078745, 78566.03078745, 78566.03078745, 78566.03078745,\n",
       "       78566.03078745, 78566.03078745, 78566.03078745, 78566.03078745,\n",
       "       78566.03078745, 78566.03078745, 78566.03078745, 78566.03078745,\n",
       "       78566.03078745, 78566.03078745, 78566.03078745, 78566.03078745,\n",
       "       78566.03078745, 78566.03078745, 78566.03078745, 78566.03078745,\n",
       "       78566.03078745, 78566.03078745, 78566.03078745, 78566.03078745,\n",
       "       78566.03078745, 78566.03078745, 78566.03078745, 78566.03078745,\n",
       "       78566.03078745, 78566.03078745, 78566.03078745, 78566.03078745,\n",
       "       78566.03078745, 78566.03078745, 78566.03078745, 78566.03078745,\n",
       "       78566.03078745, 78566.03078745, 78566.03078745, 78566.03078745,\n",
       "       78566.03078745, 78566.03078745, 78566.03078745, 78566.03078745,\n",
       "       78566.03078745, 78566.03078745, 78566.03078745, 78566.03078745,\n",
       "       78566.03078745, 78566.03078745, 78566.03078745, 78566.03078745,\n",
       "       78566.03078745, 78566.03078745, 78566.03078745, 78566.03078745])"
      ]
     },
     "execution_count": 403,
     "metadata": {},
     "output_type": "execute_result"
    }
   ],
   "source": [
    "# Predict all values as the mean\n",
    "\n",
    "baseline_pred = np.repeat(mean_value, len(test_target))\n",
    "\n",
    "baseline_pred"
   ]
  },
  {
   "cell_type": "code",
   "execution_count": 404,
   "metadata": {},
   "outputs": [
    {
     "name": "stdout",
     "output_type": "stream",
     "text": [
      "Baseline RMSE: 28294.892856870818\n"
     ]
    }
   ],
   "source": [
    "baseline_mse = mean_squared_error(test_target, baseline_pred)\n",
    "\n",
    "baseline_rmse = np.sqrt(baseline_mse)\n",
    "\n",
    "print('Baseline RMSE: {}' .format(baseline_rmse))"
   ]
  },
  {
   "cell_type": "markdown",
   "metadata": {},
   "source": [
    "#### AS shown above our base line shows approximately 28000 dollar salary. It means without any modeling we can predict the salary with 28000 dollars deviation. our models should predict the salary with a less error"
   ]
  },
  {
   "cell_type": "markdown",
   "metadata": {},
   "source": [
    "# Section 2: (7 points in total)\n",
    "\n",
    "Build the following models:\n"
   ]
  },
  {
   "cell_type": "markdown",
   "metadata": {},
   "source": [
    "## Decision Tree: (1 point)"
   ]
  },
  {
   "cell_type": "code",
   "execution_count": 405,
   "metadata": {},
   "outputs": [
    {
     "data": {
      "text/plain": [
       "DecisionTreeRegressor(min_samples_leaf=10)"
      ]
     },
     "execution_count": 405,
     "metadata": {},
     "output_type": "execute_result"
    }
   ],
   "source": [
    "#Importing and training DT model\n",
    "from sklearn.tree import DecisionTreeRegressor\n",
    "\n",
    "tree_reg = DecisionTreeRegressor(min_samples_leaf =10 ) \n",
    "tree_reg.fit(final_train_x, train_target)"
   ]
  },
  {
   "cell_type": "code",
   "execution_count": 406,
   "metadata": {},
   "outputs": [
    {
     "name": "stdout",
     "output_type": "stream",
     "text": [
      "Train RMSE: 15021.25338382824\n"
     ]
    }
   ],
   "source": [
    "#Train RMSE\n",
    "train_pred = tree_reg.predict(final_train_x)\n",
    "\n",
    "train_mse = mean_squared_error(train_target, train_pred)\n",
    "\n",
    "train_rmse = np.sqrt(train_mse)\n",
    "\n",
    "print('Train RMSE: {}' .format(train_rmse))"
   ]
  },
  {
   "cell_type": "code",
   "execution_count": 407,
   "metadata": {},
   "outputs": [
    {
     "name": "stdout",
     "output_type": "stream",
     "text": [
      "Test RMSE: 23675.50530517647\n"
     ]
    }
   ],
   "source": [
    "#Test RMSE\n",
    "test_pred = tree_reg.predict(final_test_x)\n",
    "\n",
    "test_mse = mean_squared_error(test_target, test_pred)\n",
    "\n",
    "test_rmse = np.sqrt(test_mse)\n",
    "\n",
    "print('Test RMSE: {}' .format(test_rmse))"
   ]
  },
  {
   "cell_type": "markdown",
   "metadata": {},
   "source": [
    "#### Decision Tree model shows better result then baseline, we can see that the test set result shows approximately 23000 dollar error which is better than baseline. also we can see a bit of an overfitting since the train model has the error of 15000 dollars."
   ]
  },
  {
   "cell_type": "markdown",
   "metadata": {},
   "source": [
    "## Voting regressor (2 points):\n",
    "\n",
    "The voting regressor should have at least 3 individual models"
   ]
  },
  {
   "cell_type": "code",
   "execution_count": 408,
   "metadata": {},
   "outputs": [
    {
     "data": {
      "text/plain": [
       "VotingRegressor(estimators=[('dt', DecisionTreeRegressor(max_depth=20)),\n",
       "                            ('svr', SVR(C=10, epsilon=0.01)),\n",
       "                            ('sgd', SGDRegressor(max_iter=10000))])"
      ]
     },
     "execution_count": 408,
     "metadata": {},
     "output_type": "execute_result"
    }
   ],
   "source": [
    "#Importing and training Voting Regressor model\n",
    "from sklearn.tree import DecisionTreeRegressor\n",
    "from sklearn.linear_model import SGDRegressor \n",
    "from sklearn.svm import SVR \n",
    "from sklearn.ensemble import VotingRegressor\n",
    "\n",
    "\n",
    "dtree_reg = DecisionTreeRegressor(max_depth=20)\n",
    "svm_reg = SVR(kernel=\"rbf\", C=10, epsilon=0.01, gamma='scale') \n",
    "sgd_reg = SGDRegressor(max_iter=10000, tol=1e-3)\n",
    "\n",
    "voting_reg = VotingRegressor(\n",
    "            estimators=[('dt', dtree_reg), \n",
    "                        ('svr', svm_reg), \n",
    "                        ('sgd', sgd_reg)])\n",
    "\n",
    "voting_reg.fit(final_train_x, train_target)"
   ]
  },
  {
   "cell_type": "code",
   "execution_count": 409,
   "metadata": {},
   "outputs": [
    {
     "name": "stdout",
     "output_type": "stream",
     "text": [
      "Train RMSE: 16137.952509743462\n"
     ]
    }
   ],
   "source": [
    "#Train RMSE\n",
    "train_pred = voting_reg.predict(final_train_x)\n",
    "\n",
    "train_mse = mean_squared_error(train_target, train_pred)\n",
    "\n",
    "train_rmse = np.sqrt(train_mse)\n",
    "\n",
    "print('Train RMSE: {}' .format(train_rmse))"
   ]
  },
  {
   "cell_type": "code",
   "execution_count": 410,
   "metadata": {},
   "outputs": [
    {
     "name": "stdout",
     "output_type": "stream",
     "text": [
      "Test RMSE: 20540.15942330933\n"
     ]
    }
   ],
   "source": [
    "#Test RMSE\n",
    "test_pred = voting_reg.predict(final_test_x)\n",
    "\n",
    "test_mse = mean_squared_error(test_target, test_pred)\n",
    "\n",
    "test_rmse = np.sqrt(test_mse)\n",
    "\n",
    "print('Test RMSE: {}' .format(test_rmse))"
   ]
  },
  {
   "cell_type": "markdown",
   "metadata": {},
   "source": [
    "#### As you can see our Voting Regressor model performs even better than DT since we have RMSE of approximately 20000 in our test set"
   ]
  },
  {
   "cell_type": "markdown",
   "metadata": {},
   "source": [
    "## A Boosting model: (1 point)\n",
    "\n",
    "Build either an Adaboost or a GradientBoost model"
   ]
  },
  {
   "cell_type": "code",
   "execution_count": 411,
   "metadata": {},
   "outputs": [
    {
     "data": {
      "text/plain": [
       "AdaBoostRegressor(base_estimator=DecisionTreeRegressor(max_depth=1),\n",
       "                  learning_rate=0.1, n_estimators=500)"
      ]
     },
     "execution_count": 411,
     "metadata": {},
     "output_type": "execute_result"
    }
   ],
   "source": [
    "#Importing and training AdaBoost mode\n",
    "from sklearn.ensemble import AdaBoostRegressor \n",
    "\n",
    "#Create Adapative Boosting with Decision Stumps (depth=1)\n",
    "ada_reg = AdaBoostRegressor( \n",
    "            DecisionTreeRegressor(max_depth=1), n_estimators=500, \n",
    "            learning_rate=0.1) \n",
    "\n",
    "ada_reg.fit(final_train_x, train_target)"
   ]
  },
  {
   "cell_type": "code",
   "execution_count": 412,
   "metadata": {},
   "outputs": [
    {
     "name": "stdout",
     "output_type": "stream",
     "text": [
      "Train RMSE: 28614.35461017554\n"
     ]
    }
   ],
   "source": [
    "#Train RMSE\n",
    "train_pred = ada_reg.predict(final_train_x)\n",
    "\n",
    "train_mse = mean_squared_error(train_target, train_pred)\n",
    "\n",
    "train_rmse = np.sqrt(train_mse)\n",
    "\n",
    "print('Train RMSE: {}' .format(train_rmse))"
   ]
  },
  {
   "cell_type": "code",
   "execution_count": 413,
   "metadata": {},
   "outputs": [
    {
     "name": "stdout",
     "output_type": "stream",
     "text": [
      "Test RMSE: 28960.309820648974\n"
     ]
    }
   ],
   "source": [
    "#Test RMSE\n",
    "test_pred = ada_reg.predict(final_test_x)\n",
    "28614\n",
    "test_mse = mean_squared_error(test_target, test_pred)\n",
    "\n",
    "test_rmse = np.sqrt(test_mse)\n",
    "\n",
    "print('Test RMSE: {}' .format(test_rmse))"
   ]
  },
  {
   "cell_type": "markdown",
   "metadata": {},
   "source": [
    "#### As RMSE result shows the AdaBoost model does not out perferform the last 2 models. the error of the test set is almost the same as our baseline."
   ]
  },
  {
   "cell_type": "markdown",
   "metadata": {},
   "source": [
    "## Neural network: (1 point)"
   ]
  },
  {
   "cell_type": "code",
   "execution_count": 414,
   "metadata": {},
   "outputs": [
    {
     "name": "stderr",
     "output_type": "stream",
     "text": [
      "C:\\Users\\Moein.f\\anaconda3\\lib\\site-packages\\sklearn\\neural_network\\_multilayer_perceptron.py:614: ConvergenceWarning: Stochastic Optimizer: Maximum iterations (200) reached and the optimization hasn't converged yet.\n",
      "  warnings.warn(\n"
     ]
    },
    {
     "data": {
      "text/plain": [
       "MLPRegressor(hidden_layer_sizes=(1,))"
      ]
     },
     "execution_count": 414,
     "metadata": {},
     "output_type": "execute_result"
    }
   ],
   "source": [
    "#Importing and training neural network\n",
    "from sklearn.neural_network import MLPRegressor\n",
    "\n",
    "#Default settings create 1 hidden layer with 100 neurons\n",
    "mlp_reg = MLPRegressor(hidden_layer_sizes=(1,))\n",
    "\n",
    "mlp_reg.fit(final_train_x, train_target)"
   ]
  },
  {
   "cell_type": "code",
   "execution_count": 415,
   "metadata": {},
   "outputs": [
    {
     "name": "stdout",
     "output_type": "stream",
     "text": [
      "Train RMSE: 83921.48340097268\n"
     ]
    }
   ],
   "source": [
    "#Train RMSE\n",
    "train_pred = mlp_reg.predict(final_train_x)\n",
    "\n",
    "train_mse = mean_squared_error(train_target, train_pred)\n",
    "\n",
    "train_rmse = np.sqrt(train_mse)\n",
    "\n",
    "print('Train RMSE: {}' .format(train_rmse))"
   ]
  },
  {
   "cell_type": "code",
   "execution_count": 416,
   "metadata": {},
   "outputs": [
    {
     "name": "stdout",
     "output_type": "stream",
     "text": [
      "Test RMSE: 81650.80594651504\n"
     ]
    }
   ],
   "source": [
    "#Test RMSE\n",
    "test_pred = mlp_reg.predict(final_test_x)\n",
    "\n",
    "test_mse = mean_squared_error(test_target, test_pred)\n",
    "\n",
    "test_rmse = np.sqrt(test_mse)\n",
    "\n",
    "print('Test RMSE: {}' .format(test_rmse))"
   ]
  },
  {
   "cell_type": "markdown",
   "metadata": {},
   "source": [
    "#### The NN model is the worst model for this data since the RMSE is 80000 dollars which is as twice as worst than baseline. even changing the hidden layer size does not change the outcome"
   ]
  },
  {
   "cell_type": "markdown",
   "metadata": {},
   "source": [
    "## Grid search (2 points)\n",
    "\n",
    "Perform either a full or randomized grid search on any model you want. There has to be at least two parameters for the search. "
   ]
  },
  {
   "cell_type": "code",
   "execution_count": 417,
   "metadata": {},
   "outputs": [
    {
     "name": "stdout",
     "output_type": "stream",
     "text": [
      "Fitting 5 folds for each of 10 candidates, totalling 50 fits\n"
     ]
    },
    {
     "data": {
      "text/plain": [
       "RandomizedSearchCV(cv=5, estimator=DecisionTreeRegressor(),\n",
       "                   param_distributions=[{'max_depth': array([10, 11, 12, 13, 14, 15, 16, 17, 18, 19, 20, 21, 22, 23, 24, 25, 26,\n",
       "       27, 28, 29]),\n",
       "                                         'min_samples_leaf': array([10, 11, 12, 13, 14, 15, 16, 17, 18, 19, 20, 21, 22, 23, 24, 25, 26,\n",
       "       27, 28, 29])}],\n",
       "                   return_train_score=True, scoring='neg_mean_squared_error',\n",
       "                   verbose=1)"
      ]
     },
     "execution_count": 417,
     "metadata": {},
     "output_type": "execute_result"
    }
   ],
   "source": [
    "#Importing and training Grid Search\n",
    "from sklearn.model_selection import RandomizedSearchCV\n",
    "\n",
    "param_grid = [\n",
    "    {'min_samples_leaf': np.arange(10, 30), \n",
    "     'max_depth': np.arange(10,30)}\n",
    "  ]\n",
    "\n",
    "tree_reg = DecisionTreeRegressor()\n",
    "\n",
    "grid_search = RandomizedSearchCV(tree_reg, param_grid, cv=5, n_iter=10,\n",
    "                           scoring='neg_mean_squared_error', verbose=1,\n",
    "                           return_train_score=True)\n",
    "\n",
    "grid_search.fit(final_train_x, train_target)"
   ]
  },
  {
   "cell_type": "code",
   "execution_count": 418,
   "metadata": {},
   "outputs": [
    {
     "name": "stdout",
     "output_type": "stream",
     "text": [
      "27035.562596480555 {'min_samples_leaf': 18, 'max_depth': 14}\n",
      "26921.236325977774 {'min_samples_leaf': 20, 'max_depth': 28}\n",
      "26348.07186023829 {'min_samples_leaf': 23, 'max_depth': 24}\n",
      "26452.417115478584 {'min_samples_leaf': 25, 'max_depth': 28}\n",
      "26804.81785538773 {'min_samples_leaf': 11, 'max_depth': 21}\n",
      "26815.48598807801 {'min_samples_leaf': 12, 'max_depth': 13}\n",
      "26832.10722491942 {'min_samples_leaf': 12, 'max_depth': 19}\n",
      "26794.596337478477 {'min_samples_leaf': 11, 'max_depth': 13}\n",
      "26359.996304308013 {'min_samples_leaf': 24, 'max_depth': 17}\n",
      "27052.84788953683 {'min_samples_leaf': 16, 'max_depth': 13}\n"
     ]
    }
   ],
   "source": [
    "cvres = grid_search.cv_results_\n",
    "\n",
    "for mean_score, params in zip(cvres[\"mean_test_score\"], cvres[\"params\"]):\n",
    "    print(np.sqrt(-mean_score), params)"
   ]
  },
  {
   "cell_type": "code",
   "execution_count": 419,
   "metadata": {},
   "outputs": [
    {
     "data": {
      "text/plain": [
       "{'min_samples_leaf': 23, 'max_depth': 24}"
      ]
     },
     "execution_count": 419,
     "metadata": {},
     "output_type": "execute_result"
    }
   ],
   "source": [
    "grid_search.best_params_"
   ]
  },
  {
   "cell_type": "code",
   "execution_count": 420,
   "metadata": {},
   "outputs": [
    {
     "data": {
      "text/plain": [
       "DecisionTreeRegressor(max_depth=24, min_samples_leaf=23)"
      ]
     },
     "execution_count": 420,
     "metadata": {},
     "output_type": "execute_result"
    }
   ],
   "source": [
    "grid_search.best_estimator_"
   ]
  },
  {
   "cell_type": "code",
   "execution_count": 421,
   "metadata": {},
   "outputs": [
    {
     "name": "stdout",
     "output_type": "stream",
     "text": [
      "Train RMSE: 20490.32891641276\n"
     ]
    }
   ],
   "source": [
    "#Train RMSE\n",
    "train_pred = grid_search.best_estimator_.predict(final_train_x)\n",
    "\n",
    "train_mse = mean_squared_error(train_target, train_pred)\n",
    "\n",
    "train_rmse = np.sqrt(train_mse)\n",
    "\n",
    "print('Train RMSE: {}' .format(train_rmse))"
   ]
  },
  {
   "cell_type": "code",
   "execution_count": 422,
   "metadata": {},
   "outputs": [
    {
     "name": "stdout",
     "output_type": "stream",
     "text": [
      "Test RMSE: 24767.860706296036\n"
     ]
    }
   ],
   "source": [
    "#Test RMSE\n",
    "test_pred = grid_search.best_estimator_.predict(final_test_x)\n",
    "\n",
    "test_mse = mean_squared_error(test_target, test_pred)\n",
    "\n",
    "test_rmse = np.sqrt(test_mse)\n",
    "\n",
    "print('Test RMSE: {}' .format(test_rmse))"
   ]
  },
  {
   "cell_type": "markdown",
   "metadata": {},
   "source": [
    "#### Eventhough the Grid sreach using decision tree regressor is performing better than most models but still cannot perform better than voting regressor."
   ]
  },
  {
   "cell_type": "markdown",
   "metadata": {},
   "source": [
    "# Discussion (5 points in total)\n"
   ]
  },
  {
   "cell_type": "markdown",
   "metadata": {},
   "source": [
    "## List the train and test values of each model you built (2 points)"
   ]
  },
  {
   "cell_type": "raw",
   "metadata": {},
   "source": [
    "Base Line:\n",
    "Train==> 78566\n",
    "Tests==> 28294\n",
    "\n",
    "Decision Tree:\n",
    "Train==> 15021\n",
    "Tests==> 23675\n",
    "\n",
    "Voting Regressor:\n",
    "Train==> 16137\n",
    "Tests==> 20540\n",
    "\n",
    "AdaBoosting:\n",
    "Train==> 28614\n",
    "Tests==> 28960\n",
    "\n",
    "Neural Network:\n",
    "Train==> 83921\n",
    "Tests==> 81650\n",
    "\n",
    "Grid Search:\n",
    "Train==> 20490\n",
    "Tests==> 24767"
   ]
  },
  {
   "cell_type": "markdown",
   "metadata": {},
   "source": [
    "## Which model performs the best and why? (0.5 points) \n",
    "## How does it compare to baseline? (0.5 points)\n",
    "\n",
    "Hint: The best model is the one that has the highest TEST score (regardless of any of the training values). If you select your model based on TRAIN values, you will lose points."
   ]
  },
  {
   "cell_type": "raw",
   "metadata": {},
   "source": [
    "In this case voting regressor is performing better than all other models. \n",
    "The test set performs almost 8000 dollars better (the RMSE is less)  than baseline which is the best among all of the models"
   ]
  },
  {
   "cell_type": "markdown",
   "metadata": {},
   "source": [
    "## Is there any evidence of overfitting in the best model, why or why not? If there is, what did you do about it? (1 point)"
   ]
  },
  {
   "cell_type": "raw",
   "metadata": {},
   "source": [
    "There is a 4000 dollars different between train and test results which is not a great difference comparing to other models. but we can say that it has a bit of an over fitting. we can overcome the overfitting issue by changing the hyper prameters like c, kernel or number of iteration. but in our model it does not make a huge impact on result"
   ]
  },
  {
   "cell_type": "markdown",
   "metadata": {},
   "source": [
    "## Is there any overfitting in the other models (besides the best model), why or why not? If there is, what did you do about it? (1 point)"
   ]
  },
  {
   "cell_type": "raw",
   "metadata": {},
   "source": [
    "Yes, Decision Tree and Grid search both show signs of overfitting (difference between the test result and train result). we can mitigate it by changing the parameters like min sample leaf or max depth. however this changes have little impact on the result"
   ]
  },
  {
   "cell_type": "code",
   "execution_count": null,
   "metadata": {},
   "outputs": [],
   "source": []
  }
 ],
 "metadata": {
  "kernelspec": {
   "display_name": "Python 3 (ipykernel)",
   "language": "python",
   "name": "python3"
  },
  "language_info": {
   "codemirror_mode": {
    "name": "ipython",
    "version": 3
   },
   "file_extension": ".py",
   "mimetype": "text/x-python",
   "name": "python",
   "nbconvert_exporter": "python",
   "pygments_lexer": "ipython3",
   "version": "3.9.7"
  },
  "toc": {
   "base_numbering": 1,
   "nav_menu": {},
   "number_sections": false,
   "sideBar": true,
   "skip_h1_title": false,
   "title_cell": "Table of Contents",
   "title_sidebar": "Contents",
   "toc_cell": false,
   "toc_position": {},
   "toc_section_display": true,
   "toc_window_display": false
  }
 },
 "nbformat": 4,
 "nbformat_minor": 2
}
